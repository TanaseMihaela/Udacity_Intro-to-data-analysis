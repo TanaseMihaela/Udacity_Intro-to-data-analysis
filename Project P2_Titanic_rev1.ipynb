{
 "cells": [
  {
   "cell_type": "markdown",
   "metadata": {},
   "source": [
    "<br><br><br><br>\n",
    "# P2. Investigate a dataset\n",
    "# 1. Introduction\n",
    "\n",
    "\n",
    "\"Titanic was a British passenger liner that sank in the North Atlantic Ocean in the early morning of 15 April 1912, after colliding with an iceberg during her maiden voyage from Southampton to New York City. Of the 2,224 passengers and crew aboard, more than 1,500 died, making it one of the deadliest commercial peacetime maritime disasters in modern history.\" (source: Wikipedia)\n",
    "\n",
    "For this project I will analyze the Titanic dataset, which contains demographics and passenger information from 891 of the 2224 passengers and crew on board the Titanic. The purpose of the project is to identify what factors made people more likely to survive. \n",
    "<br></br>\n",
    "<br>The description of the variables in the dataset are published on Kaggle website:</br>\n",
    "\n",
    "* survival:        &nbsp;&nbsp;&nbsp;&nbsp;&nbsp;&nbsp;Survival (0 = No; 1 = Yes) \n",
    "                \n",
    "* pclass:          &nbsp;&nbsp;&nbsp;&nbsp;&nbsp;&nbsp;&nbsp;&nbsp;Passenger Class (1 = 1st; 2 = 2nd; 3 = 3rd)\n",
    "* name:            &nbsp;&nbsp;&nbsp;&nbsp;&nbsp;&nbsp;&nbsp;&nbsp;&nbsp;Name\n",
    "* sex:             &nbsp;&nbsp;&nbsp;&nbsp;&nbsp;&nbsp;&nbsp;&nbsp;&nbsp;&nbsp;&nbsp;&nbsp;&nbsp;Sex\n",
    "* age:             &nbsp;&nbsp;&nbsp;&nbsp;&nbsp;&nbsp;&nbsp;&nbsp;&nbsp;&nbsp;&nbsp;&nbsp;Age\n",
    "* sibsp:           &nbsp;&nbsp;&nbsp;&nbsp;&nbsp;&nbsp;&nbsp;&nbsp;&nbsp;&nbsp;Number of Siblings/Spouses Aboard\n",
    "* parch:           &nbsp;&nbsp;&nbsp;&nbsp;&nbsp;&nbsp;&nbsp;&nbsp;&nbsp;Number of Parents/Children Aboard\n",
    "* ticket:          &nbsp;&nbsp;&nbsp;&nbsp;&nbsp;&nbsp;&nbsp;&nbsp;&nbsp;&nbsp;Ticket Number\n",
    "* fare:            &nbsp;&nbsp;&nbsp;&nbsp;&nbsp;&nbsp;&nbsp;&nbsp;&nbsp;&nbsp;&nbsp;&nbsp;Passenger Fare\n",
    "* cabin:           &nbsp;&nbsp;&nbsp;&nbsp;&nbsp;&nbsp;&nbsp;&nbsp;&nbsp;&nbsp;Cabin\n",
    "* embarked:        &nbsp;&nbsp;Port of Embarkation (C = Cherbourg; Q = Queenstown; S = Southampton)\n",
    "\n",
    "SPECIAL NOTES:\n",
    "* Pclass is a proxy for socio-economic status (SES)\n",
    "&nbsp;1st ~ Upper; 2nd ~ Middle; 3rd ~ Lower\n",
    "\n",
    "* Age is in Years; Fractional if Age less than One (1)\n",
    "&nbsp;If the Age is Estimated, it is in the form xx.5\n",
    "\n",
    "* With respect to the family relation variables (i.e. sibsp and parch)\n",
    "some relations were ignored.  The following are the definitions used\n",
    "for sibsp and parch.\n",
    "\n",
    "> &nbsp;&nbsp;Sibling:  Brother, Sister, Stepbrother, or Stepsister of Passenger Aboard Titanic\n",
    "Spouse:   Husband or Wife of Passenger Aboard Titanic (Mistresses and Fiances Ignored)\n",
    "Parent:   Mother or Father of Passenger Aboard Titanic\n",
    "Child:    Son, Daughter, Stepson, or Stepdaughter of Passenger Aboard Titanic\n",
    "\n",
    "> &nbsp;&nbsp;Other family relatives excluded from this study include cousins,\n",
    "nephews/nieces, aunts/uncles, and in-laws.  Some children travelled\n",
    "only with a nanny, therefore parch=0 for them.  As well, some\n",
    "travelled with very close friends or neighbors in a village, however,\n",
    "the definitions do not support such relations."
   ]
  },
  {
   "cell_type": "markdown",
   "metadata": {},
   "source": [
    "# 2. Question phase\n",
    "In this report, I will try to answer the questions below:\n",
    "><br>1.Did age influence survival? \n",
    "<br>2.Did gender influence survival? \n",
    "<br>3.Did gender and social class influence survival?\n",
    "<br>4.Did social class influence survival?  \n",
    "5.Did family presence on Titanic board influence survival? \n",
    "<br>6.Did family size influence survival? \n",
    "<br>7.Did presence of family on board and social class influence survival?</br>\n",
    "\n",
    "\n",
    "\n"
   ]
  },
  {
   "cell_type": "markdown",
   "metadata": {},
   "source": [
    "# 3. Wrangling phase\n",
    "## 3.1 Import libraries and CSV file"
   ]
  },
  {
   "cell_type": "code",
   "execution_count": 1,
   "metadata": {
    "collapsed": true
   },
   "outputs": [],
   "source": [
    "#Import libraries pandas, numpy and matplotlib\n",
    "import numpy as np\n",
    "import pandas as pd\n",
    "%matplotlib inline\n",
    "import matplotlib.pyplot as plt"
   ]
  },
  {
   "cell_type": "code",
   "execution_count": 2,
   "metadata": {
    "collapsed": false
   },
   "outputs": [],
   "source": [
    "#Import CSV\n",
    "titanic_df=pd.read_csv('titanic_data.csv')"
   ]
  },
  {
   "cell_type": "markdown",
   "metadata": {},
   "source": [
    "## 3.2 Data exploration\n",
    "In this phase I investigate the dataset, summarize its main characteristics and clean any problems I may find. \n",
    "<br>First, let's explore and get familiar with the data we have.</br>"
   ]
  },
  {
   "cell_type": "code",
   "execution_count": 3,
   "metadata": {
    "collapsed": false
   },
   "outputs": [
    {
     "data": {
      "text/plain": [
       "(891, 12)"
      ]
     },
     "execution_count": 3,
     "metadata": {},
     "output_type": "execute_result"
    }
   ],
   "source": [
    "titanic_df.shape "
   ]
  },
  {
   "cell_type": "markdown",
   "metadata": {},
   "source": [
    "The dataset contains 891 rows and 12 columns (variables).\n",
    "\n",
    "* **a) Get first 10 rows to see how the data is organized.**\n"
   ]
  },
  {
   "cell_type": "code",
   "execution_count": 4,
   "metadata": {
    "collapsed": false
   },
   "outputs": [
    {
     "data": {
      "text/html": [
       "<div>\n",
       "<table border=\"1\" class=\"dataframe\">\n",
       "  <thead>\n",
       "    <tr style=\"text-align: right;\">\n",
       "      <th></th>\n",
       "      <th>PassengerId</th>\n",
       "      <th>Survived</th>\n",
       "      <th>Pclass</th>\n",
       "      <th>Name</th>\n",
       "      <th>Sex</th>\n",
       "      <th>Age</th>\n",
       "      <th>SibSp</th>\n",
       "      <th>Parch</th>\n",
       "      <th>Ticket</th>\n",
       "      <th>Fare</th>\n",
       "      <th>Cabin</th>\n",
       "      <th>Embarked</th>\n",
       "    </tr>\n",
       "  </thead>\n",
       "  <tbody>\n",
       "    <tr>\n",
       "      <th>0</th>\n",
       "      <td>1</td>\n",
       "      <td>0</td>\n",
       "      <td>3</td>\n",
       "      <td>Braund, Mr. Owen Harris</td>\n",
       "      <td>male</td>\n",
       "      <td>22.0</td>\n",
       "      <td>1</td>\n",
       "      <td>0</td>\n",
       "      <td>A/5 21171</td>\n",
       "      <td>7.2500</td>\n",
       "      <td>NaN</td>\n",
       "      <td>S</td>\n",
       "    </tr>\n",
       "    <tr>\n",
       "      <th>1</th>\n",
       "      <td>2</td>\n",
       "      <td>1</td>\n",
       "      <td>1</td>\n",
       "      <td>Cumings, Mrs. John Bradley (Florence Briggs Th...</td>\n",
       "      <td>female</td>\n",
       "      <td>38.0</td>\n",
       "      <td>1</td>\n",
       "      <td>0</td>\n",
       "      <td>PC 17599</td>\n",
       "      <td>71.2833</td>\n",
       "      <td>C85</td>\n",
       "      <td>C</td>\n",
       "    </tr>\n",
       "    <tr>\n",
       "      <th>2</th>\n",
       "      <td>3</td>\n",
       "      <td>1</td>\n",
       "      <td>3</td>\n",
       "      <td>Heikkinen, Miss. Laina</td>\n",
       "      <td>female</td>\n",
       "      <td>26.0</td>\n",
       "      <td>0</td>\n",
       "      <td>0</td>\n",
       "      <td>STON/O2. 3101282</td>\n",
       "      <td>7.9250</td>\n",
       "      <td>NaN</td>\n",
       "      <td>S</td>\n",
       "    </tr>\n",
       "    <tr>\n",
       "      <th>3</th>\n",
       "      <td>4</td>\n",
       "      <td>1</td>\n",
       "      <td>1</td>\n",
       "      <td>Futrelle, Mrs. Jacques Heath (Lily May Peel)</td>\n",
       "      <td>female</td>\n",
       "      <td>35.0</td>\n",
       "      <td>1</td>\n",
       "      <td>0</td>\n",
       "      <td>113803</td>\n",
       "      <td>53.1000</td>\n",
       "      <td>C123</td>\n",
       "      <td>S</td>\n",
       "    </tr>\n",
       "    <tr>\n",
       "      <th>4</th>\n",
       "      <td>5</td>\n",
       "      <td>0</td>\n",
       "      <td>3</td>\n",
       "      <td>Allen, Mr. William Henry</td>\n",
       "      <td>male</td>\n",
       "      <td>35.0</td>\n",
       "      <td>0</td>\n",
       "      <td>0</td>\n",
       "      <td>373450</td>\n",
       "      <td>8.0500</td>\n",
       "      <td>NaN</td>\n",
       "      <td>S</td>\n",
       "    </tr>\n",
       "    <tr>\n",
       "      <th>5</th>\n",
       "      <td>6</td>\n",
       "      <td>0</td>\n",
       "      <td>3</td>\n",
       "      <td>Moran, Mr. James</td>\n",
       "      <td>male</td>\n",
       "      <td>NaN</td>\n",
       "      <td>0</td>\n",
       "      <td>0</td>\n",
       "      <td>330877</td>\n",
       "      <td>8.4583</td>\n",
       "      <td>NaN</td>\n",
       "      <td>Q</td>\n",
       "    </tr>\n",
       "    <tr>\n",
       "      <th>6</th>\n",
       "      <td>7</td>\n",
       "      <td>0</td>\n",
       "      <td>1</td>\n",
       "      <td>McCarthy, Mr. Timothy J</td>\n",
       "      <td>male</td>\n",
       "      <td>54.0</td>\n",
       "      <td>0</td>\n",
       "      <td>0</td>\n",
       "      <td>17463</td>\n",
       "      <td>51.8625</td>\n",
       "      <td>E46</td>\n",
       "      <td>S</td>\n",
       "    </tr>\n",
       "    <tr>\n",
       "      <th>7</th>\n",
       "      <td>8</td>\n",
       "      <td>0</td>\n",
       "      <td>3</td>\n",
       "      <td>Palsson, Master. Gosta Leonard</td>\n",
       "      <td>male</td>\n",
       "      <td>2.0</td>\n",
       "      <td>3</td>\n",
       "      <td>1</td>\n",
       "      <td>349909</td>\n",
       "      <td>21.0750</td>\n",
       "      <td>NaN</td>\n",
       "      <td>S</td>\n",
       "    </tr>\n",
       "    <tr>\n",
       "      <th>8</th>\n",
       "      <td>9</td>\n",
       "      <td>1</td>\n",
       "      <td>3</td>\n",
       "      <td>Johnson, Mrs. Oscar W (Elisabeth Vilhelmina Berg)</td>\n",
       "      <td>female</td>\n",
       "      <td>27.0</td>\n",
       "      <td>0</td>\n",
       "      <td>2</td>\n",
       "      <td>347742</td>\n",
       "      <td>11.1333</td>\n",
       "      <td>NaN</td>\n",
       "      <td>S</td>\n",
       "    </tr>\n",
       "    <tr>\n",
       "      <th>9</th>\n",
       "      <td>10</td>\n",
       "      <td>1</td>\n",
       "      <td>2</td>\n",
       "      <td>Nasser, Mrs. Nicholas (Adele Achem)</td>\n",
       "      <td>female</td>\n",
       "      <td>14.0</td>\n",
       "      <td>1</td>\n",
       "      <td>0</td>\n",
       "      <td>237736</td>\n",
       "      <td>30.0708</td>\n",
       "      <td>NaN</td>\n",
       "      <td>C</td>\n",
       "    </tr>\n",
       "  </tbody>\n",
       "</table>\n",
       "</div>"
      ],
      "text/plain": [
       "   PassengerId  Survived  Pclass  \\\n",
       "0            1         0       3   \n",
       "1            2         1       1   \n",
       "2            3         1       3   \n",
       "3            4         1       1   \n",
       "4            5         0       3   \n",
       "5            6         0       3   \n",
       "6            7         0       1   \n",
       "7            8         0       3   \n",
       "8            9         1       3   \n",
       "9           10         1       2   \n",
       "\n",
       "                                                Name     Sex   Age  SibSp  \\\n",
       "0                            Braund, Mr. Owen Harris    male  22.0      1   \n",
       "1  Cumings, Mrs. John Bradley (Florence Briggs Th...  female  38.0      1   \n",
       "2                             Heikkinen, Miss. Laina  female  26.0      0   \n",
       "3       Futrelle, Mrs. Jacques Heath (Lily May Peel)  female  35.0      1   \n",
       "4                           Allen, Mr. William Henry    male  35.0      0   \n",
       "5                                   Moran, Mr. James    male   NaN      0   \n",
       "6                            McCarthy, Mr. Timothy J    male  54.0      0   \n",
       "7                     Palsson, Master. Gosta Leonard    male   2.0      3   \n",
       "8  Johnson, Mrs. Oscar W (Elisabeth Vilhelmina Berg)  female  27.0      0   \n",
       "9                Nasser, Mrs. Nicholas (Adele Achem)  female  14.0      1   \n",
       "\n",
       "   Parch            Ticket     Fare Cabin Embarked  \n",
       "0      0         A/5 21171   7.2500   NaN        S  \n",
       "1      0          PC 17599  71.2833   C85        C  \n",
       "2      0  STON/O2. 3101282   7.9250   NaN        S  \n",
       "3      0            113803  53.1000  C123        S  \n",
       "4      0            373450   8.0500   NaN        S  \n",
       "5      0            330877   8.4583   NaN        Q  \n",
       "6      0             17463  51.8625   E46        S  \n",
       "7      1            349909  21.0750   NaN        S  \n",
       "8      2            347742  11.1333   NaN        S  \n",
       "9      0            237736  30.0708   NaN        C  "
      ]
     },
     "execution_count": 4,
     "metadata": {},
     "output_type": "execute_result"
    }
   ],
   "source": [
    "titanic_df.head(10)"
   ]
  },
  {
   "cell_type": "markdown",
   "metadata": {},
   "source": [
    "* **b) Columns data types:**"
   ]
  },
  {
   "cell_type": "code",
   "execution_count": 5,
   "metadata": {
    "collapsed": false
   },
   "outputs": [
    {
     "data": {
      "text/plain": [
       "PassengerId      int64\n",
       "Survived         int64\n",
       "Pclass           int64\n",
       "Name            object\n",
       "Sex             object\n",
       "Age            float64\n",
       "SibSp            int64\n",
       "Parch            int64\n",
       "Ticket          object\n",
       "Fare           float64\n",
       "Cabin           object\n",
       "Embarked        object\n",
       "dtype: object"
      ]
     },
     "execution_count": 5,
     "metadata": {},
     "output_type": "execute_result"
    }
   ],
   "source": [
    "titanic_df.dtypes"
   ]
  },
  {
   "cell_type": "markdown",
   "metadata": {},
   "source": [
    "* **c) Find if any PassengerId / Name duplicates**"
   ]
  },
  {
   "cell_type": "code",
   "execution_count": 6,
   "metadata": {
    "collapsed": false
   },
   "outputs": [
    {
     "data": {
      "text/plain": [
       "891"
      ]
     },
     "execution_count": 6,
     "metadata": {},
     "output_type": "execute_result"
    }
   ],
   "source": [
    "titanic_df.PassengerId.nunique()"
   ]
  },
  {
   "cell_type": "code",
   "execution_count": 7,
   "metadata": {
    "collapsed": false
   },
   "outputs": [
    {
     "data": {
      "text/plain": [
       "891"
      ]
     },
     "execution_count": 7,
     "metadata": {},
     "output_type": "execute_result"
    }
   ],
   "source": [
    "titanic_df.Name.nunique()"
   ]
  },
  {
   "cell_type": "markdown",
   "metadata": {},
   "source": [
    "&nbsp;&nbsp;&nbsp; No duplicates were found for PassengerId or Name. "
   ]
  },
  {
   "cell_type": "markdown",
   "metadata": {},
   "source": [
    "* **d) Identify missing values**"
   ]
  },
  {
   "cell_type": "code",
   "execution_count": 8,
   "metadata": {
    "collapsed": false
   },
   "outputs": [
    {
     "data": {
      "text/plain": [
       "PassengerId      0\n",
       "Survived         0\n",
       "Pclass           0\n",
       "Name             0\n",
       "Sex              0\n",
       "Age            177\n",
       "SibSp            0\n",
       "Parch            0\n",
       "Ticket           0\n",
       "Fare             0\n",
       "Cabin          687\n",
       "Embarked         2\n",
       "dtype: int64"
      ]
     },
     "execution_count": 8,
     "metadata": {},
     "output_type": "execute_result"
    }
   ],
   "source": [
    "titanic_df.apply(lambda x: sum(x.isnull()),axis=0) "
   ]
  },
  {
   "cell_type": "markdown",
   "metadata": {},
   "source": [
    "&nbsp;&nbsp;&nbsp; There are **_177_** missing values in Age column, **_687_** missing values in Cabin column and **_2_** missing values in Embarked column."
   ]
  },
  {
   "cell_type": "markdown",
   "metadata": {},
   "source": [
    "* **e) Summary statistics of numeric variables**"
   ]
  },
  {
   "cell_type": "code",
   "execution_count": 9,
   "metadata": {
    "collapsed": false
   },
   "outputs": [
    {
     "name": "stderr",
     "output_type": "stream",
     "text": [
      "C:\\Program Files (x86)\\Anaconda\\lib\\site-packages\\numpy\\lib\\function_base.py:3834: RuntimeWarning: Invalid value encountered in percentile\n",
      "  RuntimeWarning)\n"
     ]
    },
    {
     "data": {
      "text/html": [
       "<div>\n",
       "<table border=\"1\" class=\"dataframe\">\n",
       "  <thead>\n",
       "    <tr style=\"text-align: right;\">\n",
       "      <th></th>\n",
       "      <th>PassengerId</th>\n",
       "      <th>Survived</th>\n",
       "      <th>Pclass</th>\n",
       "      <th>Age</th>\n",
       "      <th>SibSp</th>\n",
       "      <th>Parch</th>\n",
       "      <th>Fare</th>\n",
       "    </tr>\n",
       "  </thead>\n",
       "  <tbody>\n",
       "    <tr>\n",
       "      <th>count</th>\n",
       "      <td>891.000000</td>\n",
       "      <td>891.000000</td>\n",
       "      <td>891.000000</td>\n",
       "      <td>714.000000</td>\n",
       "      <td>891.000000</td>\n",
       "      <td>891.000000</td>\n",
       "      <td>891.000000</td>\n",
       "    </tr>\n",
       "    <tr>\n",
       "      <th>mean</th>\n",
       "      <td>446.000000</td>\n",
       "      <td>0.383838</td>\n",
       "      <td>2.308642</td>\n",
       "      <td>29.699118</td>\n",
       "      <td>0.523008</td>\n",
       "      <td>0.381594</td>\n",
       "      <td>32.204208</td>\n",
       "    </tr>\n",
       "    <tr>\n",
       "      <th>std</th>\n",
       "      <td>257.353842</td>\n",
       "      <td>0.486592</td>\n",
       "      <td>0.836071</td>\n",
       "      <td>14.526497</td>\n",
       "      <td>1.102743</td>\n",
       "      <td>0.806057</td>\n",
       "      <td>49.693429</td>\n",
       "    </tr>\n",
       "    <tr>\n",
       "      <th>min</th>\n",
       "      <td>1.000000</td>\n",
       "      <td>0.000000</td>\n",
       "      <td>1.000000</td>\n",
       "      <td>0.420000</td>\n",
       "      <td>0.000000</td>\n",
       "      <td>0.000000</td>\n",
       "      <td>0.000000</td>\n",
       "    </tr>\n",
       "    <tr>\n",
       "      <th>25%</th>\n",
       "      <td>223.500000</td>\n",
       "      <td>0.000000</td>\n",
       "      <td>2.000000</td>\n",
       "      <td>NaN</td>\n",
       "      <td>0.000000</td>\n",
       "      <td>0.000000</td>\n",
       "      <td>7.910400</td>\n",
       "    </tr>\n",
       "    <tr>\n",
       "      <th>50%</th>\n",
       "      <td>446.000000</td>\n",
       "      <td>0.000000</td>\n",
       "      <td>3.000000</td>\n",
       "      <td>NaN</td>\n",
       "      <td>0.000000</td>\n",
       "      <td>0.000000</td>\n",
       "      <td>14.454200</td>\n",
       "    </tr>\n",
       "    <tr>\n",
       "      <th>75%</th>\n",
       "      <td>668.500000</td>\n",
       "      <td>1.000000</td>\n",
       "      <td>3.000000</td>\n",
       "      <td>NaN</td>\n",
       "      <td>1.000000</td>\n",
       "      <td>0.000000</td>\n",
       "      <td>31.000000</td>\n",
       "    </tr>\n",
       "    <tr>\n",
       "      <th>max</th>\n",
       "      <td>891.000000</td>\n",
       "      <td>1.000000</td>\n",
       "      <td>3.000000</td>\n",
       "      <td>80.000000</td>\n",
       "      <td>8.000000</td>\n",
       "      <td>6.000000</td>\n",
       "      <td>512.329200</td>\n",
       "    </tr>\n",
       "  </tbody>\n",
       "</table>\n",
       "</div>"
      ],
      "text/plain": [
       "       PassengerId    Survived      Pclass         Age       SibSp  \\\n",
       "count   891.000000  891.000000  891.000000  714.000000  891.000000   \n",
       "mean    446.000000    0.383838    2.308642   29.699118    0.523008   \n",
       "std     257.353842    0.486592    0.836071   14.526497    1.102743   \n",
       "min       1.000000    0.000000    1.000000    0.420000    0.000000   \n",
       "25%     223.500000    0.000000    2.000000         NaN    0.000000   \n",
       "50%     446.000000    0.000000    3.000000         NaN    0.000000   \n",
       "75%     668.500000    1.000000    3.000000         NaN    1.000000   \n",
       "max     891.000000    1.000000    3.000000   80.000000    8.000000   \n",
       "\n",
       "            Parch        Fare  \n",
       "count  891.000000  891.000000  \n",
       "mean     0.381594   32.204208  \n",
       "std      0.806057   49.693429  \n",
       "min      0.000000    0.000000  \n",
       "25%      0.000000    7.910400  \n",
       "50%      0.000000   14.454200  \n",
       "75%      0.000000   31.000000  \n",
       "max      6.000000  512.329200  "
      ]
     },
     "execution_count": 9,
     "metadata": {},
     "output_type": "execute_result"
    }
   ],
   "source": [
    "titanic_df.describe()"
   ]
  },
  {
   "cell_type": "markdown",
   "metadata": {},
   "source": [
    "* This is another way to easily see the missings for numeric variables: Age has only 714 counts in the table above. The average Age was ~29, the oldest person on the board was 80 years old, and the youngest was 4 months.\n",
    "* Most of the passengers had a 3rd class ticket.\n",
    "* Fare minimum value is 0. This is strange, as it means some passengers didn't pay for their ticket. There is a huge difference between the mean and max fare. Further exploration of the fare variable will be done later in the report. \n"
   ]
  },
  {
   "cell_type": "markdown",
   "metadata": {},
   "source": [
    "## 3.3 Data cleaning"
   ]
  },
  {
   "cell_type": "code",
   "execution_count": 10,
   "metadata": {
    "collapsed": true
   },
   "outputs": [],
   "source": [
    "#Create a function to plot distribution:\n",
    "def simple_graph(variable_name,xlabel,ylabel,title):\n",
    "   ax=variable_name.value_counts().plot(kind='bar',color=\"#3F5D7D\", alpha=0.8)\n",
    "   plt.title(title)\n",
    "   plt.xlabel(xlabel)\n",
    "   plt.ylabel(ylabel)\n",
    "   for p in ax.patches:\n",
    "        b=p.get_bbox()\n",
    "        ax.annotate(\"{:.0f}\".format(b.y1 + b.y0), ((b.x0 + b.x1)/2 - 0.05, b.y1 + 5))\n",
    "   ax.spines['top'].set_visible(False)\n",
    "   ax.spines['right'].set_visible(False)\n",
    "   ax.spines['bottom'].set_visible(True)\n",
    "   ax.spines['left'].set_visible(True)\n",
    "   ax.xaxis.set_ticks_position('none') \n",
    "   ax.yaxis.set_ticks_position('none') "
   ]
  },
  {
   "cell_type": "markdown",
   "metadata": {},
   "source": [
    "### 3.3.1 AGE \n",
    "* **Age distribution of the passengers.**"
   ]
  },
  {
   "cell_type": "code",
   "execution_count": 11,
   "metadata": {
    "collapsed": false
   },
   "outputs": [
    {
     "data": {
      "text/plain": [
       "<matplotlib.text.Text at 0x8feb320>"
      ]
     },
     "execution_count": 11,
     "metadata": {},
     "output_type": "execute_result"
    },
    {
     "data": {
      "image/png": "[encoded data removed]",
      "text/plain": [
       "<matplotlib.figure.Figure at 0x8f42ac8>"
      ]
     },
     "metadata": {},
     "output_type": "display_data"
    }
   ],
   "source": [
    "#age histogram\n",
    "figure = plt.figure(num=None, figsize=(15, 6), dpi=80, facecolor='w', edgecolor='k')    \n",
    "titanic_df.Age.hist(color=\"#3F5D7D\",bins=40)\n",
    "plt.xlabel(\"Age\")\n",
    "plt.ylabel(\"Number of Passengers\")\n",
    "plt.title(\"Histogram of Passenger Age\")"
   ]
  },
  {
   "cell_type": "markdown",
   "metadata": {},
   "source": [
    "From the histogram, we see that the most common ages are between 20 and 30."
   ]
  },
  {
   "cell_type": "markdown",
   "metadata": {},
   "source": [
    "* **Compute age categories**"
   ]
  },
  {
   "cell_type": "code",
   "execution_count": 12,
   "metadata": {
    "collapsed": false
   },
   "outputs": [
    {
     "data": {
      "text/plain": [
       "[18-30)    271\n",
       "[30:40)    167\n",
       "<18        113\n",
       "[40:50)     89\n",
       "[50:60)     48\n",
       ">=60        26\n",
       "Name: age_categ, dtype: int64"
      ]
     },
     "execution_count": 12,
     "metadata": {},
     "output_type": "execute_result"
    }
   ],
   "source": [
    "def age_categ(df):\n",
    "    if df['Age']<18:\n",
    "        return '<18'\n",
    "    elif df['Age']>=18 and df['Age']<30:\n",
    "        return '[18-30)'\n",
    "    elif df['Age']>=30 and df['Age']<40:\n",
    "        return '[30:40)'\n",
    "    elif df['Age']>=40 and df['Age']<50:\n",
    "        return '[40:50)'\n",
    "    elif df['Age']>=50 and df['Age']<60:\n",
    "        return '[50:60)'\n",
    "    elif df['Age']>=60:\n",
    "        return '>=60'\n",
    "\n",
    "titanic_df['age_categ'] = titanic_df.apply(age_categ, axis=1)\n",
    "titanic_df['age_categ'].value_counts()"
   ]
  },
  {
   "cell_type": "markdown",
   "metadata": {},
   "source": [
    "* **Distribution of age across gender**"
   ]
  },
  {
   "cell_type": "code",
   "execution_count": 43,
   "metadata": {
    "collapsed": false
   },
   "outputs": [
    {
     "data": {
      "text/html": [
       "\n",
       "        <style  type=\"text/css\" >\n",
       "        \n",
       "        \n",
       "        </style>\n",
       "\n",
       "        <table id=\"T_5ed3210f_ad07_11e6_b557_9c5c8e719bdf\" None>\n",
       "        \n",
       "\n",
       "        <thead>\n",
       "            \n",
       "            <tr>\n",
       "                \n",
       "                <th class=\"blank\">\n",
       "                \n",
       "                <th class=\"col_heading level0 col0\">female\n",
       "                \n",
       "                <th class=\"col_heading level0 col1\">male\n",
       "                \n",
       "            </tr>\n",
       "            \n",
       "            <tr>\n",
       "                \n",
       "                <th class=\"col_heading level2 col0\">age_categ\n",
       "                \n",
       "                <th class=\"blank\">\n",
       "                \n",
       "                <th class=\"blank\">\n",
       "                \n",
       "            </tr>\n",
       "            \n",
       "        </thead>\n",
       "        <tbody>\n",
       "            \n",
       "            <tr>\n",
       "                \n",
       "                <th id=\"T_5ed3210f_ad07_11e6_b557_9c5c8e719bdf\" class=\"row_heading level0 row0\">\n",
       "                    <18\n",
       "                \n",
       "                <td id=\"T_5ed3210f_ad07_11e6_b557_9c5c8e719bdfrow0_col0\" class=\"data row0 col0\">\n",
       "                    21.07%\n",
       "                \n",
       "                <td id=\"T_5ed3210f_ad07_11e6_b557_9c5c8e719bdfrow0_col1\" class=\"data row0 col1\">\n",
       "                    12.80%\n",
       "                \n",
       "            </tr>\n",
       "            \n",
       "            <tr>\n",
       "                \n",
       "                <th id=\"T_5ed3210f_ad07_11e6_b557_9c5c8e719bdf\" class=\"row_heading level1 row1\">\n",
       "                    >=60\n",
       "                \n",
       "                <td id=\"T_5ed3210f_ad07_11e6_b557_9c5c8e719bdfrow1_col0\" class=\"data row1 col0\">\n",
       "                    1.53%\n",
       "                \n",
       "                <td id=\"T_5ed3210f_ad07_11e6_b557_9c5c8e719bdfrow1_col1\" class=\"data row1 col1\">\n",
       "                    4.86%\n",
       "                \n",
       "            </tr>\n",
       "            \n",
       "            <tr>\n",
       "                \n",
       "                <th id=\"T_5ed3210f_ad07_11e6_b557_9c5c8e719bdf\" class=\"row_heading level1 row2\">\n",
       "                    [18-30)\n",
       "                \n",
       "                <td id=\"T_5ed3210f_ad07_11e6_b557_9c5c8e719bdfrow2_col0\" class=\"data row2 col0\">\n",
       "                    35.25%\n",
       "                \n",
       "                <td id=\"T_5ed3210f_ad07_11e6_b557_9c5c8e719bdfrow2_col1\" class=\"data row2 col1\">\n",
       "                    39.51%\n",
       "                \n",
       "            </tr>\n",
       "            \n",
       "            <tr>\n",
       "                \n",
       "                <th id=\"T_5ed3210f_ad07_11e6_b557_9c5c8e719bdf\" class=\"row_heading level1 row3\">\n",
       "                    [30:40)\n",
       "                \n",
       "                <td id=\"T_5ed3210f_ad07_11e6_b557_9c5c8e719bdfrow3_col0\" class=\"data row3 col0\">\n",
       "                    22.99%\n",
       "                \n",
       "                <td id=\"T_5ed3210f_ad07_11e6_b557_9c5c8e719bdfrow3_col1\" class=\"data row3 col1\">\n",
       "                    23.62%\n",
       "                \n",
       "            </tr>\n",
       "            \n",
       "            <tr>\n",
       "                \n",
       "                <th id=\"T_5ed3210f_ad07_11e6_b557_9c5c8e719bdf\" class=\"row_heading level1 row4\">\n",
       "                    [40:50)\n",
       "                \n",
       "                <td id=\"T_5ed3210f_ad07_11e6_b557_9c5c8e719bdfrow4_col0\" class=\"data row4 col0\">\n",
       "                    12.26%\n",
       "                \n",
       "                <td id=\"T_5ed3210f_ad07_11e6_b557_9c5c8e719bdfrow4_col1\" class=\"data row4 col1\">\n",
       "                    12.58%\n",
       "                \n",
       "            </tr>\n",
       "            \n",
       "            <tr>\n",
       "                \n",
       "                <th id=\"T_5ed3210f_ad07_11e6_b557_9c5c8e719bdf\" class=\"row_heading level1 row5\">\n",
       "                    [50:60)\n",
       "                \n",
       "                <td id=\"T_5ed3210f_ad07_11e6_b557_9c5c8e719bdfrow5_col0\" class=\"data row5 col0\">\n",
       "                    6.90%\n",
       "                \n",
       "                <td id=\"T_5ed3210f_ad07_11e6_b557_9c5c8e719bdfrow5_col1\" class=\"data row5 col1\">\n",
       "                    6.62%\n",
       "                \n",
       "            </tr>\n",
       "            \n",
       "        </tbody>\n",
       "        </table>\n",
       "        "
      ],
      "text/plain": [
       "<pandas.formats.style.Styler at 0xb78ed68>"
      ]
     },
     "execution_count": 43,
     "metadata": {},
     "output_type": "execute_result"
    }
   ],
   "source": [
    "#Crosstab age by gender\n",
    "age_sex=pd.crosstab(titanic_df.age_categ, titanic_df.Sex,normalize='columns')   \n",
    "age_sex\n",
    "age_sex.style.format(\"{:.2%}\")"
   ]
  },
  {
   "cell_type": "code",
   "execution_count": 14,
   "metadata": {
    "collapsed": false
   },
   "outputs": [
    {
     "data": {
      "text/plain": [
       "(-1.0165424489269506,\n",
       " 1.0222118083161249,\n",
       " -1.0093609307234566,\n",
       " 1.0000000021151181)"
      ]
     },
     "execution_count": 14,
     "metadata": {},
     "output_type": "execute_result"
    },
    {
     "data": {
      "image/png": "[encoded data removed]",
      "text/plain": [
       "<matplotlib.figure.Figure at 0x9aafba8>"
      ]
     },
     "metadata": {},
     "output_type": "display_data"
    }
   ],
   "source": [
    "age_sex_counts=pd.crosstab(titanic_df.age_categ, titanic_df.Sex)   \n",
    "pie_female=age_sex_counts.female.plot(kind='pie', startangle=90, shadow=True, autopct='%1.1f%%',cmap=plt.cm.RdYlGn)\n",
    "plt.axis('equal')"
   ]
  },
  {
   "cell_type": "code",
   "execution_count": 15,
   "metadata": {
    "collapsed": false
   },
   "outputs": [
    {
     "data": {
      "text/plain": [
       "(-1.0204288249820255, 1.0235269628159254, -1.0208631918253905, 1.0)"
      ]
     },
     "execution_count": 15,
     "metadata": {},
     "output_type": "execute_result"
    },
    {
     "data": {
      "image/png": "[encoded data removed]",
      "text/plain": [
       "<matplotlib.figure.Figure at 0x6c7bf28>"
      ]
     },
     "metadata": {},
     "output_type": "display_data"
    }
   ],
   "source": [
    "pie_male=age_sex_counts.male.plot(kind='pie',startangle=90, shadow=True, autopct='%1.1f%%',cmap=plt.cm.RdYlGn)\n",
    "plt.axis('equal')"
   ]
  },
  {
   "cell_type": "markdown",
   "metadata": {},
   "source": [
    "### 3.3.2 GENDER\n",
    "* **Compute a new variable with sex categories recoded into Female, Male and Child (passengers younger than 18 years old will be considered children)**"
   ]
  },
  {
   "cell_type": "code",
   "execution_count": 16,
   "metadata": {
    "collapsed": false,
    "scrolled": true
   },
   "outputs": [
    {
     "data": {
      "text/plain": [
       "male      519\n",
       "female    259\n",
       "child     113\n",
       "Name: Sex_recoded, dtype: int64"
      ]
     },
     "execution_count": 16,
     "metadata": {},
     "output_type": "execute_result"
    }
   ],
   "source": [
    "#function to recode the gender:\n",
    "def sex_category(df):                                \n",
    "    if df.Age<18:\n",
    "        return 'child'\n",
    "    else:\n",
    "        return df.Sex \n",
    "titanic_df['Sex_recoded']=titanic_df.apply(sex_category,axis=1)  #apply the function to Sex_recoded variable\n",
    "titanic_df['Sex_recoded'].value_counts()                         #Sex_recoded frequency "
   ]
  },
  {
   "cell_type": "markdown",
   "metadata": {},
   "source": [
    "* **Gender distribution of Passengers**"
   ]
  },
  {
   "cell_type": "code",
   "execution_count": 17,
   "metadata": {
    "collapsed": false
   },
   "outputs": [
    {
     "data": {
      "image/png": "[encoded data removed]",
      "text/plain": [
       "<matplotlib.figure.Figure at 0x9a18b70>"
      ]
     },
     "metadata": {},
     "output_type": "display_data"
    }
   ],
   "source": [
    "simple_graph(titanic_df.Sex_recoded,' ','Count of passengers','Gender distribution')"
   ]
  },
  {
   "cell_type": "markdown",
   "metadata": {},
   "source": [
    "The number of male is ~50% higher than the number of females on board of Titanic. "
   ]
  },
  {
   "cell_type": "markdown",
   "metadata": {},
   "source": [
    "### 3.3.3 EMBARKED\n",
    "* **Handling missing values:**\n",
    "<br>Only 2 passengers have missing values for embarked variable. I will replace the missings with the most common value in embarked column."
   ]
  },
  {
   "cell_type": "code",
   "execution_count": 18,
   "metadata": {
    "collapsed": false
   },
   "outputs": [
    {
     "data": {
      "text/plain": [
       "S    646\n",
       "C    168\n",
       "Q     77\n",
       "Name: Embarked, dtype: int64"
      ]
     },
     "execution_count": 18,
     "metadata": {},
     "output_type": "execute_result"
    }
   ],
   "source": [
    "titanic_df.Embarked.mode()                               #find the most common value\n",
    "titanic_df.Embarked = titanic_df.Embarked.fillna(\"S\")    #replace missings with mode \n",
    "titanic_df.Embarked.value_counts()                       #Embarked frequency"
   ]
  },
  {
   "cell_type": "markdown",
   "metadata": {},
   "source": [
    "* **Replace S with Southampton, C with Cherbourg, Q with Queenstown using the function below**"
   ]
  },
  {
   "cell_type": "code",
   "execution_count": 19,
   "metadata": {
    "collapsed": true
   },
   "outputs": [],
   "source": [
    "def city(value):\n",
    "    if value=='C':\n",
    "        return 'Cherbourg'\n",
    "    elif value=='Q':\n",
    "        return 'Queenstown' \n",
    "    elif value=='S':\n",
    "        return 'Southampton' \n",
    "\n",
    "titanic_df.Embarked=titanic_df.Embarked.map(city)"
   ]
  },
  {
   "cell_type": "markdown",
   "metadata": {},
   "source": [
    "* **Embarked distribution of Passengers** "
   ]
  },
  {
   "cell_type": "code",
   "execution_count": 20,
   "metadata": {
    "collapsed": false
   },
   "outputs": [
    {
     "data": {
      "image/png": "[encoded data removed]",
      "text/plain": [
       "<matplotlib.figure.Figure at 0x9e35860>"
      ]
     },
     "metadata": {},
     "output_type": "display_data"
    }
   ],
   "source": [
    "simple_graph(titanic_df.Embarked,' ','Count of passengers','Port of embarkation distribution')"
   ]
  },
  {
   "cell_type": "markdown",
   "metadata": {},
   "source": [
    "Most passengers embarked on Sounthampton port."
   ]
  },
  {
   "cell_type": "markdown",
   "metadata": {},
   "source": [
    "### 3.3.4 FAMILY ON BOARD\n",
    "* **Compute a new variable Has_family with value 1 if a person had any family member aboard (Parch+SibSp) and value 0 otherwise using the function below:**"
   ]
  },
  {
   "cell_type": "code",
   "execution_count": 21,
   "metadata": {
    "collapsed": false
   },
   "outputs": [],
   "source": [
    "titanic_df['Has_Family'] =  titanic_df[\"Parch\"] + titanic_df[\"SibSp\"]    \n",
    "def family(value):                                                           \n",
    "    if value>0:                                                         \n",
    "        return 'Yes'\n",
    "    else:\n",
    "        return 'No'\n",
    "\n",
    "titanic_df['Family_size']=titanic_df['Has_Family']+1   #Add 1 (the passenger) to the number of relatives \n",
    "titanic_df.Has_Family= titanic_df.Has_Family.map(family)    "
   ]
  },
  {
   "cell_type": "markdown",
   "metadata": {},
   "source": [
    "* **Passengers with family distribution** "
   ]
  },
  {
   "cell_type": "code",
   "execution_count": 22,
   "metadata": {
    "collapsed": false
   },
   "outputs": [
    {
     "data": {
      "image/png": "[encoded data removed]",
      "text/plain": [
       "<matplotlib.figure.Figure at 0xa1cd160>"
      ]
     },
     "metadata": {},
     "output_type": "display_data"
    }
   ],
   "source": [
    "simple_graph (titanic_df.Has_Family,'','Count of passengers' ,'Has family')"
   ]
  },
  {
   "cell_type": "markdown",
   "metadata": {},
   "source": [
    "* **Family size ** "
   ]
  },
  {
   "cell_type": "code",
   "execution_count": 23,
   "metadata": {
    "collapsed": false
   },
   "outputs": [
    {
     "data": {
      "image/png": "[encoded data removed]",
      "text/plain": [
       "<matplotlib.figure.Figure at 0xa360c50>"
      ]
     },
     "metadata": {},
     "output_type": "display_data"
    }
   ],
   "source": [
    "simple_graph (titanic_df.Family_size,'','Count of passengers' ,'Family size')"
   ]
  },
  {
   "cell_type": "markdown",
   "metadata": {},
   "source": [
    "Most passengers were traveling alone, without family. The maximum family size was 11 family members (the passenger and 10 relatives). "
   ]
  },
  {
   "cell_type": "markdown",
   "metadata": {},
   "source": [
    "### 3.3.5 PCLASS\n",
    "* **Recode 1=Upper Class; 2=Middle Class; 3=Lower Class**"
   ]
  },
  {
   "cell_type": "code",
   "execution_count": 24,
   "metadata": {
    "collapsed": false
   },
   "outputs": [
    {
     "data": {
      "text/plain": [
       "Lower Class     491\n",
       "Upper Class     216\n",
       "Middle Class    184\n",
       "Name: Pclass, dtype: int64"
      ]
     },
     "execution_count": 24,
     "metadata": {},
     "output_type": "execute_result"
    }
   ],
   "source": [
    "def recode_class(value):                                 #function to recode class\n",
    "    if value==1:\n",
    "        return 'Upper Class'\n",
    "    elif value==2:\n",
    "        return 'Middle Class'\n",
    "    elif value==3:\n",
    "        return 'Lower Class'\n",
    "titanic_df.Pclass= titanic_df.Pclass.map(recode_class)   #apply the function to Pclass \n",
    "titanic_df.Pclass.value_counts()                         #Pclass frecquency"
   ]
  },
  {
   "cell_type": "markdown",
   "metadata": {},
   "source": [
    "* **Pclass distribution**"
   ]
  },
  {
   "cell_type": "code",
   "execution_count": 25,
   "metadata": {
    "collapsed": false
   },
   "outputs": [
    {
     "data": {
      "image/png": "[encoded data removed]",
      "text/plain": [
       "<matplotlib.figure.Figure at 0xa5acf28>"
      ]
     },
     "metadata": {},
     "output_type": "display_data"
    }
   ],
   "source": [
    "simple_graph (titanic_df.Pclass,'','Count of passengers' ,'Social class')"
   ]
  },
  {
   "cell_type": "markdown",
   "metadata": {},
   "source": [
    "More than half of the passengers had a 3rd class ticket."
   ]
  },
  {
   "cell_type": "markdown",
   "metadata": {},
   "source": [
    "### 3.3.6 SURVIVABILITY"
   ]
  },
  {
   "cell_type": "markdown",
   "metadata": {},
   "source": [
    "* **Survivability distribution**"
   ]
  },
  {
   "cell_type": "code",
   "execution_count": 26,
   "metadata": {
    "collapsed": false
   },
   "outputs": [
    {
     "data": {
      "image/png": "[encoded data removed]",
      "text/plain": [
       "<matplotlib.figure.Figure at 0xb2a3ba8>"
      ]
     },
     "metadata": {},
     "output_type": "display_data"
    }
   ],
   "source": [
    "ax=titanic_df['Survived'].value_counts().plot(kind='bar',color=\"#3F5D7D\", alpha=0.8)\n",
    "labels = [item.get_text() for item in ax.get_xticklabels()]\n",
    "labels[0] = 'Died'\n",
    "labels[1] = 'Survived'\n",
    "ax.set_xticklabels(labels)\n",
    "\n",
    "plt.title('Survival status')\n",
    "plt.xlabel('')\n",
    "plt.ylabel('Count of pasengers')\n",
    "for p in ax.patches:\n",
    "    b=p.get_bbox()\n",
    "    ax.annotate(\"{:.0f}\".format(b.y1 + b.y0), ((b.x0 + b.x1)/2 - 0.05, b.y1 + 5))\n",
    "ax.spines['top'].set_visible(False)\n",
    "ax.spines['right'].set_visible(False)\n",
    "ax.spines['bottom'].set_visible(True)\n",
    "ax.spines['left'].set_visible(True)\n",
    "ax.xaxis.set_ticks_position('none') \n",
    "ax.yaxis.set_ticks_position('none') "
   ]
  },
  {
   "cell_type": "markdown",
   "metadata": {},
   "source": [
    "# 4. Exploration phase"
   ]
  },
  {
   "cell_type": "code",
   "execution_count": 27,
   "metadata": {
    "collapsed": true
   },
   "outputs": [],
   "source": [
    "#Function for graphs\n",
    "def graphs_survival(variable_name, xlabel,ylabel,title):\n",
    "    ax=variable_name.plot(kind='bar',width=0.75,color=['r','g'], alpha=0.8,figsize=(8, 5))\n",
    "    plt.title(title)\n",
    "    plt.xlabel(xlabel)\n",
    "    plt.ylabel(ylabel)\n",
    "    plt.legend(loc='upper left', bbox_to_anchor=(1.0, 1.03),\n",
    "              ncol=1, fancybox=True)\n",
    "    for p in ax.patches:\n",
    "        b=p.get_bbox()\n",
    "        ax.annotate(\"{:.2%}\".format(b.y1 + b.y0), ((b.x0 + b.x1)/2 - 0.12, b.y1 + 0.02))\n",
    "    ax.spines['top'].set_visible(False)\n",
    "    ax.spines['right'].set_visible(False)\n",
    "    ax.spines['bottom'].set_visible(True)\n",
    "    ax.spines['left'].set_visible(True)\n",
    "    ax.xaxis.set_ticks_position('none') \n",
    "    ax.yaxis.set_ticks_position('none')  "
   ]
  },
  {
   "cell_type": "markdown",
   "metadata": {
    "collapsed": false
   },
   "source": [
    "### 4.1. Did age influence survival?    \n",
    "\n"
   ]
  },
  {
   "cell_type": "markdown",
   "metadata": {},
   "source": [
    "* **Crosstab Age statistics by Survival status**"
   ]
  },
  {
   "cell_type": "code",
   "execution_count": 28,
   "metadata": {
    "collapsed": false
   },
   "outputs": [
    {
     "data": {
      "text/html": [
       "<div>\n",
       "<table border=\"1\" class=\"dataframe\">\n",
       "  <thead>\n",
       "    <tr style=\"text-align: right;\">\n",
       "      <th></th>\n",
       "      <th>Died</th>\n",
       "      <th>Survived</th>\n",
       "    </tr>\n",
       "  </thead>\n",
       "  <tbody>\n",
       "    <tr>\n",
       "      <th>count</th>\n",
       "      <td>424.000000</td>\n",
       "      <td>290.000000</td>\n",
       "    </tr>\n",
       "    <tr>\n",
       "      <th>mean</th>\n",
       "      <td>30.626179</td>\n",
       "      <td>28.343690</td>\n",
       "    </tr>\n",
       "    <tr>\n",
       "      <th>std</th>\n",
       "      <td>14.172110</td>\n",
       "      <td>14.950952</td>\n",
       "    </tr>\n",
       "    <tr>\n",
       "      <th>min</th>\n",
       "      <td>1.000000</td>\n",
       "      <td>0.420000</td>\n",
       "    </tr>\n",
       "    <tr>\n",
       "      <th>25%</th>\n",
       "      <td>NaN</td>\n",
       "      <td>NaN</td>\n",
       "    </tr>\n",
       "    <tr>\n",
       "      <th>50%</th>\n",
       "      <td>NaN</td>\n",
       "      <td>NaN</td>\n",
       "    </tr>\n",
       "    <tr>\n",
       "      <th>75%</th>\n",
       "      <td>NaN</td>\n",
       "      <td>NaN</td>\n",
       "    </tr>\n",
       "    <tr>\n",
       "      <th>max</th>\n",
       "      <td>74.000000</td>\n",
       "      <td>80.000000</td>\n",
       "    </tr>\n",
       "  </tbody>\n",
       "</table>\n",
       "</div>"
      ],
      "text/plain": [
       "             Died    Survived\n",
       "count  424.000000  290.000000\n",
       "mean    30.626179   28.343690\n",
       "std     14.172110   14.950952\n",
       "min      1.000000    0.420000\n",
       "25%           NaN         NaN\n",
       "50%           NaN         NaN\n",
       "75%           NaN         NaN\n",
       "max     74.000000   80.000000"
      ]
     },
     "execution_count": 28,
     "metadata": {},
     "output_type": "execute_result"
    }
   ],
   "source": [
    "age_survival=titanic_df.groupby('Survived').Age.describe().unstack(level=0)\n",
    "age_survival_df=pd.DataFrame(np.array(age_survival), index=age_survival.index, columns=['Died','Survived'])\n",
    "age_survival_df"
   ]
  },
  {
   "cell_type": "markdown",
   "metadata": {},
   "source": [
    "* **Survival by Age graph**"
   ]
  },
  {
   "cell_type": "code",
   "execution_count": 29,
   "metadata": {
    "collapsed": false
   },
   "outputs": [
    {
     "data": {
      "image/png": "[encoded data removed]",
      "text/plain": [
       "<matplotlib.figure.Figure at 0xb2ff588>"
      ]
     },
     "metadata": {},
     "output_type": "display_data"
    }
   ],
   "source": [
    "p_survived_age = titanic_df[titanic_df['Survived']==1]['Age']\n",
    "p_died_age = titanic_df[titanic_df['Survived']==0]['Age']\n",
    "ax=p_survived_age.plot(kind='density',color='g',figsize=(15, 6))\n",
    "p_died_age.plot(kind='density',color='r',figsize=(15, 6))\n",
    "\n",
    "plt.xlabel(' ')\n",
    "plt.ylabel(' ')\n",
    "plt.legend(['Survived','Died'])\n",
    "plt.title('Survival by Age') \n",
    "for p in ax.patches:\n",
    "    b=p.get_bbox()\n",
    "    ax.annotate(\"{:.2%}\".format(b.y1 + b.y0), ((b.x0 + b.x1)/2 - 0.15, b.y1 + 0.009))\n",
    "ax.spines['top'].set_visible(False)\n",
    "ax.spines['right'].set_visible(False)\n",
    "ax.spines['bottom'].set_visible(True)\n",
    "ax.spines['left'].set_visible(False)\n",
    "ax.axes.get_yaxis().set_visible(False)\n",
    "ax.xaxis.set_ticks_position('none') \n",
    "ax.yaxis.set_ticks_position('none')  \n"
   ]
  },
  {
   "cell_type": "markdown",
   "metadata": {},
   "source": [
    "From the statistics, we see that the minimum age of children who died is 1 years old, while minimum age of the children who survived was 5 months old. On the plot we see that many children survived the accident, compared to the children\n",
    "who didn't.\n",
    "<br><br>The graph shows a lower rate of survival for almost all adults. But, there were more male aboard than women and we know that women and children are to be saved first in a life-threatening situation. This surely influence the survival distribution.\n",
    "<br><br>We must look at the survival distribution based on gender."
   ]
  },
  {
   "cell_type": "markdown",
   "metadata": {},
   "source": [
    "### 4.2. Did gender influence survival?    "
   ]
  },
  {
   "cell_type": "markdown",
   "metadata": {},
   "source": [
    "* **Crosstab Gender by Survival status**"
   ]
  },
  {
   "cell_type": "code",
   "execution_count": 30,
   "metadata": {
    "collapsed": false
   },
   "outputs": [
    {
     "data": {
      "text/html": [
       "\n",
       "        <style  type=\"text/css\" >\n",
       "        \n",
       "        \n",
       "        </style>\n",
       "\n",
       "        <table id=\"T_07930230_ad07_11e6_8a6d_9c5c8e719bdf\" None>\n",
       "        \n",
       "\n",
       "        <thead>\n",
       "            \n",
       "            <tr>\n",
       "                \n",
       "                <th class=\"blank\">\n",
       "                \n",
       "                <th class=\"col_heading level0 col0\">Died\n",
       "                \n",
       "                <th class=\"col_heading level0 col1\">Survived\n",
       "                \n",
       "            </tr>\n",
       "            \n",
       "            <tr>\n",
       "                \n",
       "                <th class=\"col_heading level2 col0\">Sex_recoded\n",
       "                \n",
       "                <th class=\"blank\">\n",
       "                \n",
       "                <th class=\"blank\">\n",
       "                \n",
       "            </tr>\n",
       "            \n",
       "        </thead>\n",
       "        <tbody>\n",
       "            \n",
       "            <tr>\n",
       "                \n",
       "                <th id=\"T_07930230_ad07_11e6_8a6d_9c5c8e719bdf\" class=\"row_heading level0 row0\">\n",
       "                    child\n",
       "                \n",
       "                <td id=\"T_07930230_ad07_11e6_8a6d_9c5c8e719bdfrow0_col0\" class=\"data row0 col0\">\n",
       "                    46.02%\n",
       "                \n",
       "                <td id=\"T_07930230_ad07_11e6_8a6d_9c5c8e719bdfrow0_col1\" class=\"data row0 col1\">\n",
       "                    53.98%\n",
       "                \n",
       "            </tr>\n",
       "            \n",
       "            <tr>\n",
       "                \n",
       "                <th id=\"T_07930230_ad07_11e6_8a6d_9c5c8e719bdf\" class=\"row_heading level1 row1\">\n",
       "                    female\n",
       "                \n",
       "                <td id=\"T_07930230_ad07_11e6_8a6d_9c5c8e719bdfrow1_col0\" class=\"data row1 col0\">\n",
       "                    24.71%\n",
       "                \n",
       "                <td id=\"T_07930230_ad07_11e6_8a6d_9c5c8e719bdfrow1_col1\" class=\"data row1 col1\">\n",
       "                    75.29%\n",
       "                \n",
       "            </tr>\n",
       "            \n",
       "            <tr>\n",
       "                \n",
       "                <th id=\"T_07930230_ad07_11e6_8a6d_9c5c8e719bdf\" class=\"row_heading level1 row2\">\n",
       "                    male\n",
       "                \n",
       "                <td id=\"T_07930230_ad07_11e6_8a6d_9c5c8e719bdfrow2_col0\" class=\"data row2 col0\">\n",
       "                    83.43%\n",
       "                \n",
       "                <td id=\"T_07930230_ad07_11e6_8a6d_9c5c8e719bdfrow2_col1\" class=\"data row2 col1\">\n",
       "                    16.57%\n",
       "                \n",
       "            </tr>\n",
       "            \n",
       "        </tbody>\n",
       "        </table>\n",
       "        "
      ],
      "text/plain": [
       "<pandas.formats.style.Styler at 0xa3d75c0>"
      ]
     },
     "execution_count": 30,
     "metadata": {},
     "output_type": "execute_result"
    }
   ],
   "source": [
    "sex_surv=pd.crosstab(titanic_df.Sex_recoded, titanic_df.Survived,normalize='index')   \n",
    "sex_surv.columns= [\"Died\",\"Survived\"]\n",
    "sex_surv\n",
    "sex_surv.style.format(\"{:.2%}\")"
   ]
  },
  {
   "cell_type": "markdown",
   "metadata": {},
   "source": [
    "* ** Survival rate by Gender graph**"
   ]
  },
  {
   "cell_type": "code",
   "execution_count": 31,
   "metadata": {
    "collapsed": false
   },
   "outputs": [
    {
     "data": {
      "image/png": "[encoded data removed]",
      "text/plain": [
       "<matplotlib.figure.Figure at 0xb12bdd8>"
      ]
     },
     "metadata": {},
     "output_type": "display_data"
    }
   ],
   "source": [
    "graphs_survival(sex_surv,' ','Survival rate','Survival rate by geder')"
   ]
  },
  {
   "cell_type": "markdown",
   "metadata": {},
   "source": [
    "The chances to survive were: 0.54 for children, 0.75 for women and only 0.16 for male. This shows that indeed children and female were first to save. But I don't see a significant difference between children who survived and those who didn't. Maybe the social class is an important factor which could explain this case."
   ]
  },
  {
   "cell_type": "markdown",
   "metadata": {},
   "source": [
    "### 4.3. Did gender and social class influence survival?"
   ]
  },
  {
   "cell_type": "markdown",
   "metadata": {},
   "source": [
    "* **Crosstab Sex_recoded & Pclass by Survival status**"
   ]
  },
  {
   "cell_type": "code",
   "execution_count": 32,
   "metadata": {
    "collapsed": false
   },
   "outputs": [
    {
     "data": {
      "text/html": [
       "\n",
       "        <style  type=\"text/css\" >\n",
       "        \n",
       "        \n",
       "        </style>\n",
       "\n",
       "        <table id=\"T_07c6bc61_ad07_11e6_ae19_9c5c8e719bdf\" None>\n",
       "        \n",
       "\n",
       "        <thead>\n",
       "            \n",
       "            <tr>\n",
       "                \n",
       "                <th class=\"blank\">\n",
       "                \n",
       "                <th class=\"blank\">\n",
       "                \n",
       "                <th class=\"col_heading level0 col0\">Died\n",
       "                \n",
       "                <th class=\"col_heading level0 col1\">Survived\n",
       "                \n",
       "                <th class=\"col_heading level0 col2\">Totalcol\n",
       "                \n",
       "            </tr>\n",
       "            \n",
       "            <tr>\n",
       "                \n",
       "                <th class=\"col_heading level2 col0\">Sex_recoded\n",
       "                \n",
       "                <th class=\"col_heading level2 col1\">Pclass\n",
       "                \n",
       "                <th class=\"blank\">\n",
       "                \n",
       "                <th class=\"blank\">\n",
       "                \n",
       "                <th class=\"blank\">\n",
       "                \n",
       "            </tr>\n",
       "            \n",
       "        </thead>\n",
       "        <tbody>\n",
       "            \n",
       "            <tr>\n",
       "                \n",
       "                <th id=\"T_07c6bc61_ad07_11e6_ae19_9c5c8e719bdf\" class=\"row_heading level1 row0\">\n",
       "                    child\n",
       "                \n",
       "                <th id=\"T_07c6bc61_ad07_11e6_ae19_9c5c8e719bdf\" class=\"row_heading level1 row0\">\n",
       "                    Lower Class\n",
       "                \n",
       "                <td id=\"T_07c6bc61_ad07_11e6_ae19_9c5c8e719bdfrow0_col0\" class=\"data row0 col0\">\n",
       "                    62.82%\n",
       "                \n",
       "                <td id=\"T_07c6bc61_ad07_11e6_ae19_9c5c8e719bdfrow0_col1\" class=\"data row0 col1\">\n",
       "                    37.18%\n",
       "                \n",
       "                <td id=\"T_07c6bc61_ad07_11e6_ae19_9c5c8e719bdfrow0_col2\" class=\"data row0 col2\">\n",
       "                    100.00%\n",
       "                \n",
       "            </tr>\n",
       "            \n",
       "            <tr>\n",
       "                \n",
       "                <th id=\"T_07c6bc61_ad07_11e6_ae19_9c5c8e719bdf\" class=\"row_heading level2 row1\">\n",
       "                    child\n",
       "                \n",
       "                <th id=\"T_07c6bc61_ad07_11e6_ae19_9c5c8e719bdf\" class=\"row_heading level2 row1\">\n",
       "                    Middle Class\n",
       "                \n",
       "                <td id=\"T_07c6bc61_ad07_11e6_ae19_9c5c8e719bdfrow1_col0\" class=\"data row1 col0\">\n",
       "                    8.70%\n",
       "                \n",
       "                <td id=\"T_07c6bc61_ad07_11e6_ae19_9c5c8e719bdfrow1_col1\" class=\"data row1 col1\">\n",
       "                    91.30%\n",
       "                \n",
       "                <td id=\"T_07c6bc61_ad07_11e6_ae19_9c5c8e719bdfrow1_col2\" class=\"data row1 col2\">\n",
       "                    100.00%\n",
       "                \n",
       "            </tr>\n",
       "            \n",
       "            <tr>\n",
       "                \n",
       "                <th id=\"T_07c6bc61_ad07_11e6_ae19_9c5c8e719bdf\" class=\"row_heading level2 row2\">\n",
       "                    child\n",
       "                \n",
       "                <th id=\"T_07c6bc61_ad07_11e6_ae19_9c5c8e719bdf\" class=\"row_heading level2 row2\">\n",
       "                    Upper Class\n",
       "                \n",
       "                <td id=\"T_07c6bc61_ad07_11e6_ae19_9c5c8e719bdfrow2_col0\" class=\"data row2 col0\">\n",
       "                    8.33%\n",
       "                \n",
       "                <td id=\"T_07c6bc61_ad07_11e6_ae19_9c5c8e719bdfrow2_col1\" class=\"data row2 col1\">\n",
       "                    91.67%\n",
       "                \n",
       "                <td id=\"T_07c6bc61_ad07_11e6_ae19_9c5c8e719bdfrow2_col2\" class=\"data row2 col2\">\n",
       "                    100.00%\n",
       "                \n",
       "            </tr>\n",
       "            \n",
       "            <tr>\n",
       "                \n",
       "                <th id=\"T_07c6bc61_ad07_11e6_ae19_9c5c8e719bdf\" class=\"row_heading level2 row3\">\n",
       "                    female\n",
       "                \n",
       "                <th id=\"T_07c6bc61_ad07_11e6_ae19_9c5c8e719bdf\" class=\"row_heading level2 row3\">\n",
       "                    Lower Class\n",
       "                \n",
       "                <td id=\"T_07c6bc61_ad07_11e6_ae19_9c5c8e719bdfrow3_col0\" class=\"data row3 col0\">\n",
       "                    51.38%\n",
       "                \n",
       "                <td id=\"T_07c6bc61_ad07_11e6_ae19_9c5c8e719bdfrow3_col1\" class=\"data row3 col1\">\n",
       "                    48.62%\n",
       "                \n",
       "                <td id=\"T_07c6bc61_ad07_11e6_ae19_9c5c8e719bdfrow3_col2\" class=\"data row3 col2\">\n",
       "                    100.00%\n",
       "                \n",
       "            </tr>\n",
       "            \n",
       "            <tr>\n",
       "                \n",
       "                <th id=\"T_07c6bc61_ad07_11e6_ae19_9c5c8e719bdf\" class=\"row_heading level2 row4\">\n",
       "                    female\n",
       "                \n",
       "                <th id=\"T_07c6bc61_ad07_11e6_ae19_9c5c8e719bdf\" class=\"row_heading level2 row4\">\n",
       "                    Middle Class\n",
       "                \n",
       "                <td id=\"T_07c6bc61_ad07_11e6_ae19_9c5c8e719bdfrow4_col0\" class=\"data row4 col0\">\n",
       "                    9.38%\n",
       "                \n",
       "                <td id=\"T_07c6bc61_ad07_11e6_ae19_9c5c8e719bdfrow4_col1\" class=\"data row4 col1\">\n",
       "                    90.62%\n",
       "                \n",
       "                <td id=\"T_07c6bc61_ad07_11e6_ae19_9c5c8e719bdfrow4_col2\" class=\"data row4 col2\">\n",
       "                    100.00%\n",
       "                \n",
       "            </tr>\n",
       "            \n",
       "            <tr>\n",
       "                \n",
       "                <th id=\"T_07c6bc61_ad07_11e6_ae19_9c5c8e719bdf\" class=\"row_heading level2 row5\">\n",
       "                    female\n",
       "                \n",
       "                <th id=\"T_07c6bc61_ad07_11e6_ae19_9c5c8e719bdf\" class=\"row_heading level2 row5\">\n",
       "                    Upper Class\n",
       "                \n",
       "                <td id=\"T_07c6bc61_ad07_11e6_ae19_9c5c8e719bdfrow5_col0\" class=\"data row5 col0\">\n",
       "                    2.33%\n",
       "                \n",
       "                <td id=\"T_07c6bc61_ad07_11e6_ae19_9c5c8e719bdfrow5_col1\" class=\"data row5 col1\">\n",
       "                    97.67%\n",
       "                \n",
       "                <td id=\"T_07c6bc61_ad07_11e6_ae19_9c5c8e719bdfrow5_col2\" class=\"data row5 col2\">\n",
       "                    100.00%\n",
       "                \n",
       "            </tr>\n",
       "            \n",
       "            <tr>\n",
       "                \n",
       "                <th id=\"T_07c6bc61_ad07_11e6_ae19_9c5c8e719bdf\" class=\"row_heading level2 row6\">\n",
       "                    male\n",
       "                \n",
       "                <th id=\"T_07c6bc61_ad07_11e6_ae19_9c5c8e719bdf\" class=\"row_heading level2 row6\">\n",
       "                    Lower Class\n",
       "                \n",
       "                <td id=\"T_07c6bc61_ad07_11e6_ae19_9c5c8e719bdfrow6_col0\" class=\"data row6 col0\">\n",
       "                    87.83%\n",
       "                \n",
       "                <td id=\"T_07c6bc61_ad07_11e6_ae19_9c5c8e719bdfrow6_col1\" class=\"data row6 col1\">\n",
       "                    12.17%\n",
       "                \n",
       "                <td id=\"T_07c6bc61_ad07_11e6_ae19_9c5c8e719bdfrow6_col2\" class=\"data row6 col2\">\n",
       "                    100.00%\n",
       "                \n",
       "            </tr>\n",
       "            \n",
       "            <tr>\n",
       "                \n",
       "                <th id=\"T_07c6bc61_ad07_11e6_ae19_9c5c8e719bdf\" class=\"row_heading level2 row7\">\n",
       "                    male\n",
       "                \n",
       "                <th id=\"T_07c6bc61_ad07_11e6_ae19_9c5c8e719bdf\" class=\"row_heading level2 row7\">\n",
       "                    Middle Class\n",
       "                \n",
       "                <td id=\"T_07c6bc61_ad07_11e6_ae19_9c5c8e719bdfrow7_col0\" class=\"data row7 col0\">\n",
       "                    91.75%\n",
       "                \n",
       "                <td id=\"T_07c6bc61_ad07_11e6_ae19_9c5c8e719bdfrow7_col1\" class=\"data row7 col1\">\n",
       "                    8.25%\n",
       "                \n",
       "                <td id=\"T_07c6bc61_ad07_11e6_ae19_9c5c8e719bdfrow7_col2\" class=\"data row7 col2\">\n",
       "                    100.00%\n",
       "                \n",
       "            </tr>\n",
       "            \n",
       "            <tr>\n",
       "                \n",
       "                <th id=\"T_07c6bc61_ad07_11e6_ae19_9c5c8e719bdf\" class=\"row_heading level2 row8\">\n",
       "                    male\n",
       "                \n",
       "                <th id=\"T_07c6bc61_ad07_11e6_ae19_9c5c8e719bdf\" class=\"row_heading level2 row8\">\n",
       "                    Upper Class\n",
       "                \n",
       "                <td id=\"T_07c6bc61_ad07_11e6_ae19_9c5c8e719bdfrow8_col0\" class=\"data row8 col0\">\n",
       "                    65.25%\n",
       "                \n",
       "                <td id=\"T_07c6bc61_ad07_11e6_ae19_9c5c8e719bdfrow8_col1\" class=\"data row8 col1\">\n",
       "                    34.75%\n",
       "                \n",
       "                <td id=\"T_07c6bc61_ad07_11e6_ae19_9c5c8e719bdfrow8_col2\" class=\"data row8 col2\">\n",
       "                    100.00%\n",
       "                \n",
       "            </tr>\n",
       "            \n",
       "            <tr>\n",
       "                \n",
       "                <th id=\"T_07c6bc61_ad07_11e6_ae19_9c5c8e719bdf\" class=\"row_heading level2 row9\">\n",
       "                    All\n",
       "                \n",
       "                <th id=\"T_07c6bc61_ad07_11e6_ae19_9c5c8e719bdf\" class=\"row_heading level2 row9\">\n",
       "                    \n",
       "                \n",
       "                <td id=\"T_07c6bc61_ad07_11e6_ae19_9c5c8e719bdfrow9_col0\" class=\"data row9 col0\">\n",
       "                    61.62%\n",
       "                \n",
       "                <td id=\"T_07c6bc61_ad07_11e6_ae19_9c5c8e719bdfrow9_col1\" class=\"data row9 col1\">\n",
       "                    38.38%\n",
       "                \n",
       "                <td id=\"T_07c6bc61_ad07_11e6_ae19_9c5c8e719bdfrow9_col2\" class=\"data row9 col2\">\n",
       "                    100.00%\n",
       "                \n",
       "            </tr>\n",
       "            \n",
       "        </tbody>\n",
       "        </table>\n",
       "        "
      ],
      "text/plain": [
       "<pandas.formats.style.Styler at 0xb136630>"
      ]
     },
     "execution_count": 32,
     "metadata": {},
     "output_type": "execute_result"
    }
   ],
   "source": [
    "survived_sex_class = pd.crosstab(index=[titanic_df[\"Sex_recoded\"],titanic_df[\"Pclass\"]], \n",
    "                                 columns=titanic_df[\"Survived\"],\n",
    "                                 margins=True)\n",
    "survived_sex_class.columns= [\"Died\",\"Survived\",\"Totalcol\"]\n",
    "\n",
    "survived_sex_class=survived_sex_class.div(survived_sex_class[\"Totalcol\"],axis=0)\n",
    "survived_sex_class.style.format(\"{:.2%}\")"
   ]
  },
  {
   "cell_type": "markdown",
   "metadata": {},
   "source": [
    "* **Survival rate by Gender and Social status graph**"
   ]
  },
  {
   "cell_type": "code",
   "execution_count": 33,
   "metadata": {
    "collapsed": false
   },
   "outputs": [
    {
     "data": {
      "image/png": "[encoded data removed]",
      "text/plain": [
       "<matplotlib.figure.Figure at 0xa34ee10>"
      ]
     },
     "metadata": {},
     "output_type": "display_data"
    }
   ],
   "source": [
    "ax=survived_sex_class.iloc[:9,:2].plot(kind='bar', color=['r','g'], figsize=(14, 6),width=0.75)\n",
    "plt.xlabel(' ')\n",
    "plt.ylabel('Survival rate')\n",
    "plt.legend(loc='upper left', bbox_to_anchor=(1.0, 1.03),\n",
    "          ncol=1, fancybox=True)\n",
    "plt.title('Survival rate by Gender and Social status') \n",
    "for p in ax.patches:\n",
    "    b=p.get_bbox()\n",
    "    ax.annotate(\"{:.2%}\".format(b.y1 + b.y0), ((b.x0 + b.x1)/2 - 0.16, b.y1 + 0.005))\n",
    "ax.spines['top'].set_visible(False)\n",
    "ax.spines['right'].set_visible(False)\n",
    "ax.spines['bottom'].set_visible(True)\n",
    "ax.spines['left'].set_visible(True)\n",
    "ax.xaxis.set_ticks_position('none') \n",
    "ax.yaxis.set_ticks_position('none') "
   ]
  },
  {
   "cell_type": "markdown",
   "metadata": {},
   "source": [
    "Children survivability is greatly influenced by the high rate of mortality among children from the 3rd Class. While 1st/2nd class children had 0.91/0.92 survival chances, those from the 3rd class had a survival chance of only 0.37.\n",
    "<br><br>Women from the 1st and 2nd class had also the most chances to survive. The survival rate lowers drastically for women from 3rd class. \n",
    "<br><br>Among male, the highest probability to survive was 0.35 (male from the 1st class).\n"
   ]
  },
  {
   "cell_type": "markdown",
   "metadata": {},
   "source": [
    "### 4.4. Did social class influence survival?   "
   ]
  },
  {
   "cell_type": "markdown",
   "metadata": {},
   "source": [
    "* **Crosstab Pclass by Survival status**"
   ]
  },
  {
   "cell_type": "code",
   "execution_count": 34,
   "metadata": {
    "collapsed": false
   },
   "outputs": [
    {
     "data": {
      "text/html": [
       "\n",
       "        <style  type=\"text/css\" >\n",
       "        \n",
       "        \n",
       "        </style>\n",
       "\n",
       "        <table id=\"T_07eb3451_ad07_11e6_9536_9c5c8e719bdf\" None>\n",
       "        \n",
       "\n",
       "        <thead>\n",
       "            \n",
       "            <tr>\n",
       "                \n",
       "                <th class=\"blank\">\n",
       "                \n",
       "                <th class=\"col_heading level0 col0\">Died\n",
       "                \n",
       "                <th class=\"col_heading level0 col1\">Survived\n",
       "                \n",
       "            </tr>\n",
       "            \n",
       "            <tr>\n",
       "                \n",
       "                <th class=\"col_heading level2 col0\">Pclass\n",
       "                \n",
       "                <th class=\"blank\">\n",
       "                \n",
       "                <th class=\"blank\">\n",
       "                \n",
       "            </tr>\n",
       "            \n",
       "        </thead>\n",
       "        <tbody>\n",
       "            \n",
       "            <tr>\n",
       "                \n",
       "                <th id=\"T_07eb3451_ad07_11e6_9536_9c5c8e719bdf\" class=\"row_heading level0 row0\">\n",
       "                    Lower Class\n",
       "                \n",
       "                <td id=\"T_07eb3451_ad07_11e6_9536_9c5c8e719bdfrow0_col0\" class=\"data row0 col0\">\n",
       "                    75.76%\n",
       "                \n",
       "                <td id=\"T_07eb3451_ad07_11e6_9536_9c5c8e719bdfrow0_col1\" class=\"data row0 col1\">\n",
       "                    24.24%\n",
       "                \n",
       "            </tr>\n",
       "            \n",
       "            <tr>\n",
       "                \n",
       "                <th id=\"T_07eb3451_ad07_11e6_9536_9c5c8e719bdf\" class=\"row_heading level1 row1\">\n",
       "                    Middle Class\n",
       "                \n",
       "                <td id=\"T_07eb3451_ad07_11e6_9536_9c5c8e719bdfrow1_col0\" class=\"data row1 col0\">\n",
       "                    52.72%\n",
       "                \n",
       "                <td id=\"T_07eb3451_ad07_11e6_9536_9c5c8e719bdfrow1_col1\" class=\"data row1 col1\">\n",
       "                    47.28%\n",
       "                \n",
       "            </tr>\n",
       "            \n",
       "            <tr>\n",
       "                \n",
       "                <th id=\"T_07eb3451_ad07_11e6_9536_9c5c8e719bdf\" class=\"row_heading level1 row2\">\n",
       "                    Upper Class\n",
       "                \n",
       "                <td id=\"T_07eb3451_ad07_11e6_9536_9c5c8e719bdfrow2_col0\" class=\"data row2 col0\">\n",
       "                    37.04%\n",
       "                \n",
       "                <td id=\"T_07eb3451_ad07_11e6_9536_9c5c8e719bdfrow2_col1\" class=\"data row2 col1\">\n",
       "                    62.96%\n",
       "                \n",
       "            </tr>\n",
       "            \n",
       "        </tbody>\n",
       "        </table>\n",
       "        "
      ],
      "text/plain": [
       "<pandas.formats.style.Styler at 0xa34ef60>"
      ]
     },
     "execution_count": 34,
     "metadata": {},
     "output_type": "execute_result"
    }
   ],
   "source": [
    "Pclass_surv=pd.crosstab(titanic_df.Pclass, titanic_df.Survived,normalize='index')  \n",
    "Pclass_surv.columns= [\"Died\",\"Survived\"]\n",
    "Pclass_surv\n",
    "Pclass_surv.style.format(\"{:.2%}\")"
   ]
  },
  {
   "cell_type": "markdown",
   "metadata": {},
   "source": [
    "* ** Survival rate by Social status graph**"
   ]
  },
  {
   "cell_type": "code",
   "execution_count": 35,
   "metadata": {
    "collapsed": false
   },
   "outputs": [
    {
     "data": {
      "image/png": "[encoded data removed]",
      "text/plain": [
       "<matplotlib.figure.Figure at 0x9be47f0>"
      ]
     },
     "metadata": {},
     "output_type": "display_data"
    }
   ],
   "source": [
    "graphs_survival(Pclass_surv,' ','Survival rate','Survival rate by social status')"
   ]
  },
  {
   "cell_type": "markdown",
   "metadata": {},
   "source": [
    "The probability to survive increases by social class."
   ]
  },
  {
   "cell_type": "markdown",
   "metadata": {},
   "source": [
    "### 4.5. Did family presence on Titanic board influence survival?  "
   ]
  },
  {
   "cell_type": "markdown",
   "metadata": {},
   "source": [
    "* ** Crosstab Has_Family by Survival status**"
   ]
  },
  {
   "cell_type": "code",
   "execution_count": 36,
   "metadata": {
    "collapsed": false
   },
   "outputs": [
    {
     "data": {
      "text/html": [
       "\n",
       "        <style  type=\"text/css\" >\n",
       "        \n",
       "        \n",
       "        </style>\n",
       "\n",
       "        <table id=\"T_080ffa61_ad07_11e6_a291_9c5c8e719bdf\" None>\n",
       "        \n",
       "\n",
       "        <thead>\n",
       "            \n",
       "            <tr>\n",
       "                \n",
       "                <th class=\"blank\">\n",
       "                \n",
       "                <th class=\"col_heading level0 col0\">Died\n",
       "                \n",
       "                <th class=\"col_heading level0 col1\">Survived\n",
       "                \n",
       "            </tr>\n",
       "            \n",
       "            <tr>\n",
       "                \n",
       "                <th class=\"col_heading level2 col0\">Has_Family\n",
       "                \n",
       "                <th class=\"blank\">\n",
       "                \n",
       "                <th class=\"blank\">\n",
       "                \n",
       "            </tr>\n",
       "            \n",
       "        </thead>\n",
       "        <tbody>\n",
       "            \n",
       "            <tr>\n",
       "                \n",
       "                <th id=\"T_080ffa61_ad07_11e6_a291_9c5c8e719bdf\" class=\"row_heading level0 row0\">\n",
       "                    No\n",
       "                \n",
       "                <td id=\"T_080ffa61_ad07_11e6_a291_9c5c8e719bdfrow0_col0\" class=\"data row0 col0\">\n",
       "                    69.65%\n",
       "                \n",
       "                <td id=\"T_080ffa61_ad07_11e6_a291_9c5c8e719bdfrow0_col1\" class=\"data row0 col1\">\n",
       "                    30.35%\n",
       "                \n",
       "            </tr>\n",
       "            \n",
       "            <tr>\n",
       "                \n",
       "                <th id=\"T_080ffa61_ad07_11e6_a291_9c5c8e719bdf\" class=\"row_heading level1 row1\">\n",
       "                    Yes\n",
       "                \n",
       "                <td id=\"T_080ffa61_ad07_11e6_a291_9c5c8e719bdfrow1_col0\" class=\"data row1 col0\">\n",
       "                    49.44%\n",
       "                \n",
       "                <td id=\"T_080ffa61_ad07_11e6_a291_9c5c8e719bdfrow1_col1\" class=\"data row1 col1\">\n",
       "                    50.56%\n",
       "                \n",
       "            </tr>\n",
       "            \n",
       "        </tbody>\n",
       "        </table>\n",
       "        "
      ],
      "text/plain": [
       "<pandas.formats.style.Styler at 0x9ee8cf8>"
      ]
     },
     "execution_count": 36,
     "metadata": {},
     "output_type": "execute_result"
    }
   ],
   "source": [
    "Has_Family_surv=pd.crosstab(titanic_df.Has_Family, titanic_df.Survived,normalize='index') \n",
    "Has_Family_surv.columns= [\"Died\",\"Survived\"]\n",
    "Has_Family_surv\n",
    "Has_Family_surv.style.format(\"{:.2%}\")"
   ]
  },
  {
   "cell_type": "markdown",
   "metadata": {},
   "source": [
    "* ** Survival rate by Presence of family aboard**"
   ]
  },
  {
   "cell_type": "code",
   "execution_count": 37,
   "metadata": {
    "collapsed": false,
    "scrolled": true
   },
   "outputs": [
    {
     "data": {
      "image/png": "[encoded data removed]",
      "text/plain": [
       "<matplotlib.figure.Figure at 0x9ee0da0>"
      ]
     },
     "metadata": {},
     "output_type": "display_data"
    }
   ],
   "source": [
    "graphs_survival(Has_Family_surv,' ','Survival rate','Survival rate by family on board')"
   ]
  },
  {
   "cell_type": "markdown",
   "metadata": {},
   "source": [
    "From the graph above, the passengers with family aboard had more chances to survive. \n",
    "<br><br>But how was this chance influenced by the size of the family. Did those with large family have lower chances to survive?"
   ]
  },
  {
   "cell_type": "markdown",
   "metadata": {},
   "source": [
    "### 4.6. Did family size influence survival?  "
   ]
  },
  {
   "cell_type": "markdown",
   "metadata": {},
   "source": [
    "* **Crosstab Family_size by Survival status**"
   ]
  },
  {
   "cell_type": "code",
   "execution_count": 38,
   "metadata": {
    "collapsed": false
   },
   "outputs": [
    {
     "data": {
      "text/html": [
       "\n",
       "        <style  type=\"text/css\" >\n",
       "        \n",
       "        \n",
       "        </style>\n",
       "\n",
       "        <table id=\"T_08300580_ad07_11e6_80e9_9c5c8e719bdf\" None>\n",
       "        \n",
       "\n",
       "        <thead>\n",
       "            \n",
       "            <tr>\n",
       "                \n",
       "                <th class=\"blank\">\n",
       "                \n",
       "                <th class=\"col_heading level0 col0\">Died\n",
       "                \n",
       "                <th class=\"col_heading level0 col1\">Survived\n",
       "                \n",
       "            </tr>\n",
       "            \n",
       "            <tr>\n",
       "                \n",
       "                <th class=\"col_heading level2 col0\">Family_size\n",
       "                \n",
       "                <th class=\"blank\">\n",
       "                \n",
       "                <th class=\"blank\">\n",
       "                \n",
       "            </tr>\n",
       "            \n",
       "        </thead>\n",
       "        <tbody>\n",
       "            \n",
       "            <tr>\n",
       "                \n",
       "                <th id=\"T_08300580_ad07_11e6_80e9_9c5c8e719bdf\" class=\"row_heading level0 row0\">\n",
       "                    1\n",
       "                \n",
       "                <td id=\"T_08300580_ad07_11e6_80e9_9c5c8e719bdfrow0_col0\" class=\"data row0 col0\">\n",
       "                    69.65%\n",
       "                \n",
       "                <td id=\"T_08300580_ad07_11e6_80e9_9c5c8e719bdfrow0_col1\" class=\"data row0 col1\">\n",
       "                    30.35%\n",
       "                \n",
       "            </tr>\n",
       "            \n",
       "            <tr>\n",
       "                \n",
       "                <th id=\"T_08300580_ad07_11e6_80e9_9c5c8e719bdf\" class=\"row_heading level1 row1\">\n",
       "                    2\n",
       "                \n",
       "                <td id=\"T_08300580_ad07_11e6_80e9_9c5c8e719bdfrow1_col0\" class=\"data row1 col0\">\n",
       "                    44.72%\n",
       "                \n",
       "                <td id=\"T_08300580_ad07_11e6_80e9_9c5c8e719bdfrow1_col1\" class=\"data row1 col1\">\n",
       "                    55.28%\n",
       "                \n",
       "            </tr>\n",
       "            \n",
       "            <tr>\n",
       "                \n",
       "                <th id=\"T_08300580_ad07_11e6_80e9_9c5c8e719bdf\" class=\"row_heading level1 row2\">\n",
       "                    3\n",
       "                \n",
       "                <td id=\"T_08300580_ad07_11e6_80e9_9c5c8e719bdfrow2_col0\" class=\"data row2 col0\">\n",
       "                    42.16%\n",
       "                \n",
       "                <td id=\"T_08300580_ad07_11e6_80e9_9c5c8e719bdfrow2_col1\" class=\"data row2 col1\">\n",
       "                    57.84%\n",
       "                \n",
       "            </tr>\n",
       "            \n",
       "            <tr>\n",
       "                \n",
       "                <th id=\"T_08300580_ad07_11e6_80e9_9c5c8e719bdf\" class=\"row_heading level1 row3\">\n",
       "                    4\n",
       "                \n",
       "                <td id=\"T_08300580_ad07_11e6_80e9_9c5c8e719bdfrow3_col0\" class=\"data row3 col0\">\n",
       "                    27.59%\n",
       "                \n",
       "                <td id=\"T_08300580_ad07_11e6_80e9_9c5c8e719bdfrow3_col1\" class=\"data row3 col1\">\n",
       "                    72.41%\n",
       "                \n",
       "            </tr>\n",
       "            \n",
       "            <tr>\n",
       "                \n",
       "                <th id=\"T_08300580_ad07_11e6_80e9_9c5c8e719bdf\" class=\"row_heading level1 row4\">\n",
       "                    5\n",
       "                \n",
       "                <td id=\"T_08300580_ad07_11e6_80e9_9c5c8e719bdfrow4_col0\" class=\"data row4 col0\">\n",
       "                    80.00%\n",
       "                \n",
       "                <td id=\"T_08300580_ad07_11e6_80e9_9c5c8e719bdfrow4_col1\" class=\"data row4 col1\">\n",
       "                    20.00%\n",
       "                \n",
       "            </tr>\n",
       "            \n",
       "            <tr>\n",
       "                \n",
       "                <th id=\"T_08300580_ad07_11e6_80e9_9c5c8e719bdf\" class=\"row_heading level1 row5\">\n",
       "                    6\n",
       "                \n",
       "                <td id=\"T_08300580_ad07_11e6_80e9_9c5c8e719bdfrow5_col0\" class=\"data row5 col0\">\n",
       "                    86.36%\n",
       "                \n",
       "                <td id=\"T_08300580_ad07_11e6_80e9_9c5c8e719bdfrow5_col1\" class=\"data row5 col1\">\n",
       "                    13.64%\n",
       "                \n",
       "            </tr>\n",
       "            \n",
       "            <tr>\n",
       "                \n",
       "                <th id=\"T_08300580_ad07_11e6_80e9_9c5c8e719bdf\" class=\"row_heading level1 row6\">\n",
       "                    7\n",
       "                \n",
       "                <td id=\"T_08300580_ad07_11e6_80e9_9c5c8e719bdfrow6_col0\" class=\"data row6 col0\">\n",
       "                    66.67%\n",
       "                \n",
       "                <td id=\"T_08300580_ad07_11e6_80e9_9c5c8e719bdfrow6_col1\" class=\"data row6 col1\">\n",
       "                    33.33%\n",
       "                \n",
       "            </tr>\n",
       "            \n",
       "            <tr>\n",
       "                \n",
       "                <th id=\"T_08300580_ad07_11e6_80e9_9c5c8e719bdf\" class=\"row_heading level1 row7\">\n",
       "                    8\n",
       "                \n",
       "                <td id=\"T_08300580_ad07_11e6_80e9_9c5c8e719bdfrow7_col0\" class=\"data row7 col0\">\n",
       "                    100.00%\n",
       "                \n",
       "                <td id=\"T_08300580_ad07_11e6_80e9_9c5c8e719bdfrow7_col1\" class=\"data row7 col1\">\n",
       "                    0.00%\n",
       "                \n",
       "            </tr>\n",
       "            \n",
       "            <tr>\n",
       "                \n",
       "                <th id=\"T_08300580_ad07_11e6_80e9_9c5c8e719bdf\" class=\"row_heading level1 row8\">\n",
       "                    11\n",
       "                \n",
       "                <td id=\"T_08300580_ad07_11e6_80e9_9c5c8e719bdfrow8_col0\" class=\"data row8 col0\">\n",
       "                    100.00%\n",
       "                \n",
       "                <td id=\"T_08300580_ad07_11e6_80e9_9c5c8e719bdfrow8_col1\" class=\"data row8 col1\">\n",
       "                    0.00%\n",
       "                \n",
       "            </tr>\n",
       "            \n",
       "        </tbody>\n",
       "        </table>\n",
       "        "
      ],
      "text/plain": [
       "<pandas.formats.style.Styler at 0xb186550>"
      ]
     },
     "execution_count": 38,
     "metadata": {},
     "output_type": "execute_result"
    }
   ],
   "source": [
    "Family_size_surv=pd.crosstab(titanic_df.Family_size, titanic_df.Survived,normalize='index') \n",
    "Family_size_surv.columns= [\"Died\",\"Survived\"]\n",
    "Family_size_surv\n",
    "Family_size_surv.style.format(\"{:.2%}\")"
   ]
  },
  {
   "cell_type": "markdown",
   "metadata": {},
   "source": [
    "* **Survival rate by Family size graph**"
   ]
  },
  {
   "cell_type": "code",
   "execution_count": 39,
   "metadata": {
    "collapsed": false
   },
   "outputs": [
    {
     "data": {
      "image/png": "[encoded data removed]",
      "text/plain": [
       "<matplotlib.figure.Figure at 0xb1fa7f0>"
      ]
     },
     "metadata": {},
     "output_type": "display_data"
    }
   ],
   "source": [
    "ax=Family_size_surv.plot(color=['r','g'], alpha=0.8,figsize=(14, 6),marker='o', linestyle='--')\n",
    "plt.xlabel('Family size')\n",
    "plt.ylabel('Survival rate')\n",
    "plt.legend(loc='upper left', bbox_to_anchor=(1.0, 1.03),\n",
    "          ncol=1, fancybox=True)\n",
    "plt.title('Survival rate by Family size') \n",
    "ax.spines['top'].set_visible(False)\n",
    "ax.spines['right'].set_visible(False)\n",
    "ax.spines['bottom'].set_visible(True)\n",
    "ax.spines['left'].set_visible(True)\n",
    "ax.xaxis.set_ticks_position('none') \n",
    "ax.yaxis.set_ticks_position('none')  "
   ]
  },
  {
   "cell_type": "markdown",
   "metadata": {},
   "source": [
    "It seems that passengers witch had 1 to 3 family members aboard Titanic had increased chance of survival. The trend is descending for passengers with more than 3 family members. \n",
    "<br><br>Next, I will explore how did social class influence survability of those with/without family on board."
   ]
  },
  {
   "cell_type": "markdown",
   "metadata": {},
   "source": [
    "### 4.7. Did presence of family on board and social class influence survival?"
   ]
  },
  {
   "cell_type": "markdown",
   "metadata": {},
   "source": [
    "* **Crosstab Has_Family & Pclass by Survival status**"
   ]
  },
  {
   "cell_type": "code",
   "execution_count": 40,
   "metadata": {
    "collapsed": false
   },
   "outputs": [
    {
     "data": {
      "text/html": [
       "\n",
       "        <style  type=\"text/css\" >\n",
       "        \n",
       "        \n",
       "        </style>\n",
       "\n",
       "        <table id=\"T_085e6880_ad07_11e6_bcc7_9c5c8e719bdf\" None>\n",
       "        \n",
       "\n",
       "        <thead>\n",
       "            \n",
       "            <tr>\n",
       "                \n",
       "                <th class=\"blank\">\n",
       "                \n",
       "                <th class=\"blank\">\n",
       "                \n",
       "                <th class=\"col_heading level0 col0\">Died\n",
       "                \n",
       "                <th class=\"col_heading level0 col1\">Survived\n",
       "                \n",
       "                <th class=\"col_heading level0 col2\">Totalcol\n",
       "                \n",
       "            </tr>\n",
       "            \n",
       "            <tr>\n",
       "                \n",
       "                <th class=\"col_heading level2 col0\">Pclass\n",
       "                \n",
       "                <th class=\"col_heading level2 col1\">Has_Family\n",
       "                \n",
       "                <th class=\"blank\">\n",
       "                \n",
       "                <th class=\"blank\">\n",
       "                \n",
       "                <th class=\"blank\">\n",
       "                \n",
       "            </tr>\n",
       "            \n",
       "        </thead>\n",
       "        <tbody>\n",
       "            \n",
       "            <tr>\n",
       "                \n",
       "                <th id=\"T_085e6880_ad07_11e6_bcc7_9c5c8e719bdf\" class=\"row_heading level1 row0\">\n",
       "                    Lower Class\n",
       "                \n",
       "                <th id=\"T_085e6880_ad07_11e6_bcc7_9c5c8e719bdf\" class=\"row_heading level1 row0\">\n",
       "                    No\n",
       "                \n",
       "                <td id=\"T_085e6880_ad07_11e6_bcc7_9c5c8e719bdfrow0_col0\" class=\"data row0 col0\">\n",
       "                    78.70%\n",
       "                \n",
       "                <td id=\"T_085e6880_ad07_11e6_bcc7_9c5c8e719bdfrow0_col1\" class=\"data row0 col1\">\n",
       "                    21.30%\n",
       "                \n",
       "                <td id=\"T_085e6880_ad07_11e6_bcc7_9c5c8e719bdfrow0_col2\" class=\"data row0 col2\">\n",
       "                    100.00%\n",
       "                \n",
       "            </tr>\n",
       "            \n",
       "            <tr>\n",
       "                \n",
       "                <th id=\"T_085e6880_ad07_11e6_bcc7_9c5c8e719bdf\" class=\"row_heading level2 row1\">\n",
       "                    Lower Class\n",
       "                \n",
       "                <th id=\"T_085e6880_ad07_11e6_bcc7_9c5c8e719bdf\" class=\"row_heading level2 row1\">\n",
       "                    Yes\n",
       "                \n",
       "                <td id=\"T_085e6880_ad07_11e6_bcc7_9c5c8e719bdfrow1_col0\" class=\"data row1 col0\">\n",
       "                    70.06%\n",
       "                \n",
       "                <td id=\"T_085e6880_ad07_11e6_bcc7_9c5c8e719bdfrow1_col1\" class=\"data row1 col1\">\n",
       "                    29.94%\n",
       "                \n",
       "                <td id=\"T_085e6880_ad07_11e6_bcc7_9c5c8e719bdfrow1_col2\" class=\"data row1 col2\">\n",
       "                    100.00%\n",
       "                \n",
       "            </tr>\n",
       "            \n",
       "            <tr>\n",
       "                \n",
       "                <th id=\"T_085e6880_ad07_11e6_bcc7_9c5c8e719bdf\" class=\"row_heading level2 row2\">\n",
       "                    Middle Class\n",
       "                \n",
       "                <th id=\"T_085e6880_ad07_11e6_bcc7_9c5c8e719bdf\" class=\"row_heading level2 row2\">\n",
       "                    No\n",
       "                \n",
       "                <td id=\"T_085e6880_ad07_11e6_bcc7_9c5c8e719bdfrow2_col0\" class=\"data row2 col0\">\n",
       "                    65.38%\n",
       "                \n",
       "                <td id=\"T_085e6880_ad07_11e6_bcc7_9c5c8e719bdfrow2_col1\" class=\"data row2 col1\">\n",
       "                    34.62%\n",
       "                \n",
       "                <td id=\"T_085e6880_ad07_11e6_bcc7_9c5c8e719bdfrow2_col2\" class=\"data row2 col2\">\n",
       "                    100.00%\n",
       "                \n",
       "            </tr>\n",
       "            \n",
       "            <tr>\n",
       "                \n",
       "                <th id=\"T_085e6880_ad07_11e6_bcc7_9c5c8e719bdf\" class=\"row_heading level2 row3\">\n",
       "                    Middle Class\n",
       "                \n",
       "                <th id=\"T_085e6880_ad07_11e6_bcc7_9c5c8e719bdf\" class=\"row_heading level2 row3\">\n",
       "                    Yes\n",
       "                \n",
       "                <td id=\"T_085e6880_ad07_11e6_bcc7_9c5c8e719bdfrow3_col0\" class=\"data row3 col0\">\n",
       "                    36.25%\n",
       "                \n",
       "                <td id=\"T_085e6880_ad07_11e6_bcc7_9c5c8e719bdfrow3_col1\" class=\"data row3 col1\">\n",
       "                    63.75%\n",
       "                \n",
       "                <td id=\"T_085e6880_ad07_11e6_bcc7_9c5c8e719bdfrow3_col2\" class=\"data row3 col2\">\n",
       "                    100.00%\n",
       "                \n",
       "            </tr>\n",
       "            \n",
       "            <tr>\n",
       "                \n",
       "                <th id=\"T_085e6880_ad07_11e6_bcc7_9c5c8e719bdf\" class=\"row_heading level2 row4\">\n",
       "                    Upper Class\n",
       "                \n",
       "                <th id=\"T_085e6880_ad07_11e6_bcc7_9c5c8e719bdf\" class=\"row_heading level2 row4\">\n",
       "                    No\n",
       "                \n",
       "                <td id=\"T_085e6880_ad07_11e6_bcc7_9c5c8e719bdfrow4_col0\" class=\"data row4 col0\">\n",
       "                    46.79%\n",
       "                \n",
       "                <td id=\"T_085e6880_ad07_11e6_bcc7_9c5c8e719bdfrow4_col1\" class=\"data row4 col1\">\n",
       "                    53.21%\n",
       "                \n",
       "                <td id=\"T_085e6880_ad07_11e6_bcc7_9c5c8e719bdfrow4_col2\" class=\"data row4 col2\">\n",
       "                    100.00%\n",
       "                \n",
       "            </tr>\n",
       "            \n",
       "            <tr>\n",
       "                \n",
       "                <th id=\"T_085e6880_ad07_11e6_bcc7_9c5c8e719bdf\" class=\"row_heading level2 row5\">\n",
       "                    Upper Class\n",
       "                \n",
       "                <th id=\"T_085e6880_ad07_11e6_bcc7_9c5c8e719bdf\" class=\"row_heading level2 row5\">\n",
       "                    Yes\n",
       "                \n",
       "                <td id=\"T_085e6880_ad07_11e6_bcc7_9c5c8e719bdfrow5_col0\" class=\"data row5 col0\">\n",
       "                    27.10%\n",
       "                \n",
       "                <td id=\"T_085e6880_ad07_11e6_bcc7_9c5c8e719bdfrow5_col1\" class=\"data row5 col1\">\n",
       "                    72.90%\n",
       "                \n",
       "                <td id=\"T_085e6880_ad07_11e6_bcc7_9c5c8e719bdfrow5_col2\" class=\"data row5 col2\">\n",
       "                    100.00%\n",
       "                \n",
       "            </tr>\n",
       "            \n",
       "            <tr>\n",
       "                \n",
       "                <th id=\"T_085e6880_ad07_11e6_bcc7_9c5c8e719bdf\" class=\"row_heading level2 row6\">\n",
       "                    All\n",
       "                \n",
       "                <th id=\"T_085e6880_ad07_11e6_bcc7_9c5c8e719bdf\" class=\"row_heading level2 row6\">\n",
       "                    \n",
       "                \n",
       "                <td id=\"T_085e6880_ad07_11e6_bcc7_9c5c8e719bdfrow6_col0\" class=\"data row6 col0\">\n",
       "                    61.62%\n",
       "                \n",
       "                <td id=\"T_085e6880_ad07_11e6_bcc7_9c5c8e719bdfrow6_col1\" class=\"data row6 col1\">\n",
       "                    38.38%\n",
       "                \n",
       "                <td id=\"T_085e6880_ad07_11e6_bcc7_9c5c8e719bdfrow6_col2\" class=\"data row6 col2\">\n",
       "                    100.00%\n",
       "                \n",
       "            </tr>\n",
       "            \n",
       "        </tbody>\n",
       "        </table>\n",
       "        "
      ],
      "text/plain": [
       "<pandas.formats.style.Styler at 0xc0278d0>"
      ]
     },
     "execution_count": 40,
     "metadata": {},
     "output_type": "execute_result"
    }
   ],
   "source": [
    "survived_Has_Family_class = pd.crosstab(index=[titanic_df[\"Pclass\"],titanic_df[\"Has_Family\"]], \n",
    "                                 columns=titanic_df[\"Survived\"],\n",
    "                                 margins=True)\n",
    "survived_Has_Family_class.columns= [\"Died\",\"Survived\",\"Totalcol\"]\n",
    "\n",
    "survived_Has_Family_class=survived_Has_Family_class.div(survived_Has_Family_class[\"Totalcol\"],axis=0)\n",
    "survived_Has_Family_class.style.format(\"{:.2%}\")"
   ]
  },
  {
   "cell_type": "markdown",
   "metadata": {},
   "source": [
    "* **Survival rate by Social status and Family aboard graph**"
   ]
  },
  {
   "cell_type": "code",
   "execution_count": 41,
   "metadata": {
    "collapsed": false
   },
   "outputs": [
    {
     "data": {
      "image/png": "[encoded data removed]",
      "text/plain": [
       "<matplotlib.figure.Figure at 0xa3ab9b0>"
      ]
     },
     "metadata": {},
     "output_type": "display_data"
    }
   ],
   "source": [
    "ax=survived_Has_Family_class.iloc[:6,:2].plot(kind='bar',color=['r','g'], figsize=(14, 6),width=0.75)\n",
    "plt.xlabel(' ')\n",
    "plt.ylabel('Survival rate')\n",
    "plt.legend(loc='upper left', bbox_to_anchor=(1.0, 1.03),\n",
    "          ncol=1, fancybox=True)\n",
    "\n",
    "plt.title('Survival rate by Social status and Family aboard') \n",
    "for p in ax.patches:\n",
    "    b=p.get_bbox()\n",
    "    ax.annotate(\"{:.2%}\".format(b.y1 + b.y0), ((b.x0 + b.x1)/2 - 0.16, b.y1 + 0.005))\n",
    "ax.spines['top'].set_visible(False)\n",
    "ax.spines['right'].set_visible(False)\n",
    "ax.spines['bottom'].set_visible(True)\n",
    "ax.spines['left'].set_visible(True)\n",
    "ax.xaxis.set_ticks_position('none') \n",
    "ax.yaxis.set_ticks_position('none') "
   ]
  },
  {
   "cell_type": "markdown",
   "metadata": {},
   "source": [
    "The passengers from 3rd class which travelled alone had the lowest chance to survive. \n",
    "<br><br>The passengers from 2nd and 1st class witch travelled with family had greatly higher chances to survive. "
   ]
  },
  {
   "cell_type": "markdown",
   "metadata": {},
   "source": [
    "\n",
    "# 5. Conclusions\n",
    "\n",
    "Limitations of the report:\n",
    "- 177 missing values in the age column.\n",
    "- The data analyzed was a sample \n",
    "- I used only descriptive analysis, so the findings are tentative. No statistical test was apply to validate the results. \n",
    "\n",
    "So, a person aboard Titanic had the most chances to survive if: was a woman or child, had a ticket for 1st class, travelled with less than 4 family members.\n",
    "I didn't explore how Fare influenced the survability, but I assume that fare and social class are somehow correlated and have the same trend.\n",
    "\n"
   ]
  }
 ],
 "metadata": {
  "anaconda-cloud": {},
  "kernelspec": {
   "display_name": "Python [Root]",
   "language": "python",
   "name": "Python [Root]"
  },
  "language_info": {
   "codemirror_mode": {
    "name": "ipython",
    "version": 2
   },
   "file_extension": ".py",
   "mimetype": "text/x-python",
   "name": "python",
   "nbconvert_exporter": "python",
   "pygments_lexer": "ipython2",
   "version": "2.7.12"
  }
 },
 "nbformat": 4,
 "nbformat_minor": 0
}
